{
 "cells": [
  {
   "cell_type": "code",
   "execution_count": 1,
   "id": "dbb5b668",
   "metadata": {},
   "outputs": [],
   "source": [
    "import pandas as pd\n",
    "import numpy as np\n",
    "import seaborn as sns\n",
    "import matplotlib.pyplot as plt"
   ]
  },
  {
   "cell_type": "code",
   "execution_count": 2,
   "id": "7df73dc0",
   "metadata": {},
   "outputs": [],
   "source": [
    "df = pd.read_csv(\"./Data/loan_data_set.csv\")"
   ]
  },
  {
   "cell_type": "markdown",
   "id": "296b2b83",
   "metadata": {},
   "source": [
    "# --> Handling NaN values"
   ]
  },
  {
   "cell_type": "markdown",
   "id": "1105be50",
   "metadata": {},
   "source": [
    "## Test and Train Split\n",
    "- Before Handlind NaN values we are going to split the data because of data leakage"
   ]
  },
  {
   "cell_type": "code",
   "execution_count": 3,
   "id": "3fef2ebb",
   "metadata": {},
   "outputs": [],
   "source": [
    "from sklearn.model_selection import train_test_split\n",
    "\n",
    "X = df.drop('Loan_Status', axis = 1)\n",
    "y = df['Loan_Status']\n",
    "\n",
    "X_train, X_test, y_train, y_test = train_test_split(X, y, test_size=0.2, random_state=18)"
   ]
  },
  {
   "cell_type": "markdown",
   "id": "512b2442",
   "metadata": {},
   "source": [
    "## 1. Gender\n",
    "- if the applicant is married there is a high chance of male applicant\n",
    "- Mode of Gender variable is 'Male'"
   ]
  },
  {
   "cell_type": "code",
   "execution_count": 4,
   "id": "c15cd55e",
   "metadata": {},
   "outputs": [
    {
     "data": {
      "text/plain": [
       "<AxesSubplot:xlabel='Married', ylabel='count'>"
      ]
     },
     "execution_count": 4,
     "metadata": {},
     "output_type": "execute_result"
    },
    {
     "data": {
      "image/png": "[encoded data removed]",
      "text/plain": [
       "<Figure size 432x288 with 1 Axes>"
      ]
     },
     "metadata": {
      "needs_background": "light"
     },
     "output_type": "display_data"
    }
   ],
   "source": [
    "sns.countplot(x = X_train['Married'], hue = X_train['Gender'])"
   ]
  },
  {
   "cell_type": "code",
   "execution_count": 5,
   "id": "529755d5",
   "metadata": {},
   "outputs": [
    {
     "data": {
      "text/plain": [
       "Yes    5\n",
       "No     1\n",
       "Name: Married, dtype: int64"
      ]
     },
     "execution_count": 5,
     "metadata": {},
     "output_type": "execute_result"
    }
   ],
   "source": [
    "X_train[X_train['Gender'].isna() == True]['Married'].value_counts(dropna = False)"
   ]
  },
  {
   "cell_type": "code",
   "execution_count": 6,
   "id": "9051958a",
   "metadata": {},
   "outputs": [],
   "source": [
    "X_train['Gender'] = X_train['Gender'].fillna('Male')\n",
    "X_test['Gender'] = X_test['Gender'].fillna('Male')"
   ]
  },
  {
   "cell_type": "markdown",
   "id": "040fe8b9",
   "metadata": {},
   "source": [
    "## 2. Married"
   ]
  },
  {
   "cell_type": "code",
   "execution_count": 7,
   "id": "2db910be",
   "metadata": {},
   "outputs": [
    {
     "data": {
      "text/plain": [
       "Yes    319\n",
       "No     169\n",
       "NaN      3\n",
       "Name: Married, dtype: int64"
      ]
     },
     "execution_count": 7,
     "metadata": {},
     "output_type": "execute_result"
    }
   ],
   "source": [
    "X_train['Married'].value_counts(dropna = False)"
   ]
  },
  {
   "cell_type": "code",
   "execution_count": 8,
   "id": "9b7ebf64",
   "metadata": {},
   "outputs": [],
   "source": [
    "X_train['Married'] = X_train['Married'].fillna(X_train['Married'].mode()[0])\n",
    "X_test['Married'] = X_test['Married'].fillna(X_train['Married'].mode()[0])"
   ]
  },
  {
   "cell_type": "markdown",
   "id": "af131401",
   "metadata": {},
   "source": [
    "## 3. Dependents\n",
    "- Mode of Dependents feature is '0'"
   ]
  },
  {
   "cell_type": "code",
   "execution_count": 9,
   "id": "0a446a42",
   "metadata": {},
   "outputs": [
    {
     "data": {
      "text/plain": [
       "0      271\n",
       "2       85\n",
       "1       77\n",
       "3+      43\n",
       "NaN     15\n",
       "Name: Dependents, dtype: int64"
      ]
     },
     "execution_count": 9,
     "metadata": {},
     "output_type": "execute_result"
    }
   ],
   "source": [
    "X_train['Dependents'].value_counts(dropna = False)"
   ]
  },
  {
   "cell_type": "code",
   "execution_count": 10,
   "id": "d20611ec",
   "metadata": {},
   "outputs": [
    {
     "data": {
      "text/plain": [
       "Yes    11\n",
       "No      4\n",
       "Name: Married, dtype: int64"
      ]
     },
     "execution_count": 10,
     "metadata": {},
     "output_type": "execute_result"
    }
   ],
   "source": [
    "X_train[X_train['Dependents'].isna() == True]['Married'].value_counts(dropna = False)"
   ]
  },
  {
   "cell_type": "code",
   "execution_count": 11,
   "id": "8186ea98",
   "metadata": {},
   "outputs": [
    {
     "data": {
      "text/plain": [
       "<AxesSubplot:xlabel='Dependents', ylabel='count'>"
      ]
     },
     "execution_count": 11,
     "metadata": {},
     "output_type": "execute_result"
    },
    {
     "data": {
      "image/png": "[encoded data removed]",
      "text/plain": [
       "<Figure size 432x288 with 1 Axes>"
      ]
     },
     "metadata": {
      "needs_background": "light"
     },
     "output_type": "display_data"
    }
   ],
   "source": [
    "sns.countplot(x = df['Dependents'], hue = df['Married'])"
   ]
  },
  {
   "cell_type": "code",
   "execution_count": 12,
   "id": "5687c83a",
   "metadata": {},
   "outputs": [],
   "source": [
    "X_test['Dependents'] = X_test['Dependents'].fillna(X_train['Dependents'].mode()[0])\n",
    "X_train['Dependents'] = X_train['Dependents'].fillna(X_train['Dependents'].mode()[0])"
   ]
  },
  {
   "cell_type": "markdown",
   "id": "2c4e12bd",
   "metadata": {},
   "source": [
    "## 4. Self_Employed"
   ]
  },
  {
   "cell_type": "code",
   "execution_count": 13,
   "id": "a7f62526",
   "metadata": {},
   "outputs": [
    {
     "data": {
      "text/plain": [
       "No     398\n",
       "Yes     68\n",
       "NaN     25\n",
       "Name: Self_Employed, dtype: int64"
      ]
     },
     "execution_count": 13,
     "metadata": {},
     "output_type": "execute_result"
    }
   ],
   "source": [
    "X_train['Self_Employed'].value_counts(dropna = False)"
   ]
  },
  {
   "cell_type": "code",
   "execution_count": 14,
   "id": "ac325481",
   "metadata": {},
   "outputs": [],
   "source": [
    "X_train['Self_Employed'] = X_train['Self_Employed'].fillna(X_train['Self_Employed'].mode()[0])\n",
    "X_test['Self_Employed'] = X_test['Self_Employed'].fillna(X_train['Self_Employed'].mode()[0])"
   ]
  },
  {
   "cell_type": "markdown",
   "id": "ae140f56",
   "metadata": {},
   "source": [
    "## 5. LoanAmount"
   ]
  },
  {
   "cell_type": "code",
   "execution_count": 15,
   "id": "cdbf25d1",
   "metadata": {},
   "outputs": [
    {
     "data": {
      "text/plain": [
       "18"
      ]
     },
     "execution_count": 15,
     "metadata": {},
     "output_type": "execute_result"
    }
   ],
   "source": [
    "X_train['LoanAmount'].isna().sum()"
   ]
  },
  {
   "cell_type": "code",
   "execution_count": 16,
   "id": "2217df57",
   "metadata": {},
   "outputs": [
    {
     "data": {
      "text/plain": [
       "142.92389006342495"
      ]
     },
     "execution_count": 16,
     "metadata": {},
     "output_type": "execute_result"
    }
   ],
   "source": [
    "X_train['LoanAmount'].mean()"
   ]
  },
  {
   "cell_type": "code",
   "execution_count": 17,
   "id": "848b9c7f",
   "metadata": {},
   "outputs": [
    {
     "name": "stderr",
     "output_type": "stream",
     "text": [
      "/home/sahil/anaconda3/lib/python3.9/site-packages/seaborn/distributions.py:2619: FutureWarning: `distplot` is a deprecated function and will be removed in a future version. Please adapt your code to use either `displot` (a figure-level function with similar flexibility) or `histplot` (an axes-level function for histograms).\n",
      "  warnings.warn(msg, FutureWarning)\n"
     ]
    },
    {
     "data": {
      "text/plain": [
       "<AxesSubplot:xlabel='LoanAmount', ylabel='Density'>"
      ]
     },
     "execution_count": 17,
     "metadata": {},
     "output_type": "execute_result"
    },
    {
     "data": {
      "image/png": "[encoded data removed]",
      "text/plain": [
       "<Figure size 432x288 with 1 Axes>"
      ]
     },
     "metadata": {
      "needs_background": "light"
     },
     "output_type": "display_data"
    }
   ],
   "source": [
    "sns.distplot(X_train['LoanAmount'])"
   ]
  },
  {
   "cell_type": "code",
   "execution_count": 18,
   "id": "670c8254",
   "metadata": {},
   "outputs": [
    {
     "data": {
      "text/plain": [
       "38"
      ]
     },
     "execution_count": 18,
     "metadata": {},
     "output_type": "execute_result"
    }
   ],
   "source": [
    "X_train[X_train['LoanAmount'] > 250]['LoanAmount'].count()"
   ]
  },
  {
   "cell_type": "code",
   "execution_count": 19,
   "id": "3eaf1acb",
   "metadata": {},
   "outputs": [
    {
     "data": {
      "text/plain": [
       "125.09447004608295"
      ]
     },
     "execution_count": 19,
     "metadata": {},
     "output_type": "execute_result"
    }
   ],
   "source": [
    "X_train[X_train['LoanAmount'] < 250]['LoanAmount'].mean()"
   ]
  },
  {
   "cell_type": "code",
   "execution_count": 20,
   "id": "91fd19a4",
   "metadata": {},
   "outputs": [
    {
     "data": {
      "text/plain": [
       "<AxesSubplot:xlabel='LoanAmount', ylabel='Count'>"
      ]
     },
     "execution_count": 20,
     "metadata": {},
     "output_type": "execute_result"
    },
    {
     "data": {
      "image/png": "[encoded data removed]",
      "text/plain": [
       "<Figure size 432x288 with 1 Axes>"
      ]
     },
     "metadata": {
      "needs_background": "light"
     },
     "output_type": "display_data"
    }
   ],
   "source": [
    "sns.histplot(x = X_train[X_train['LoanAmount'] < 250]['LoanAmount'], kde = True)"
   ]
  },
  {
   "cell_type": "code",
   "execution_count": 21,
   "id": "12bd72eb",
   "metadata": {},
   "outputs": [],
   "source": [
    "X_train['LoanAmount'] = X_train['LoanAmount'].fillna(125.0944)\n",
    "X_test['LoanAmount'] = X_test['LoanAmount'].fillna(125.0944)"
   ]
  },
  {
   "cell_type": "markdown",
   "id": "2d225035",
   "metadata": {},
   "source": [
    "## 6. Loan_Amount_Term"
   ]
  },
  {
   "cell_type": "code",
   "execution_count": 22,
   "id": "183adef5",
   "metadata": {},
   "outputs": [
    {
     "data": {
      "text/plain": [
       "360.0    408\n",
       "180.0     39\n",
       "480.0     13\n",
       "300.0     11\n",
       "NaN        8\n",
       "240.0      3\n",
       "120.0      3\n",
       "36.0       2\n",
       "84.0       2\n",
       "60.0       2\n",
       "Name: Loan_Amount_Term, dtype: int64"
      ]
     },
     "execution_count": 22,
     "metadata": {},
     "output_type": "execute_result"
    }
   ],
   "source": [
    "X_train['Loan_Amount_Term'].value_counts(dropna = False)"
   ]
  },
  {
   "cell_type": "code",
   "execution_count": 23,
   "id": "5fb11d90",
   "metadata": {},
   "outputs": [],
   "source": [
    "X_train['Loan_Amount_Term'] = X_train['Loan_Amount_Term'].fillna(360)\n",
    "X_test['Loan_Amount_Term'] = X_test['Loan_Amount_Term'].fillna(360)"
   ]
  },
  {
   "cell_type": "markdown",
   "id": "7faa3274",
   "metadata": {},
   "source": [
    "## 7. Credit_History"
   ]
  },
  {
   "cell_type": "code",
   "execution_count": 24,
   "id": "ed23677b",
   "metadata": {},
   "outputs": [
    {
     "data": {
      "text/plain": [
       "1.0    385\n",
       "0.0     69\n",
       "NaN     37\n",
       "Name: Credit_History, dtype: int64"
      ]
     },
     "execution_count": 24,
     "metadata": {},
     "output_type": "execute_result"
    }
   ],
   "source": [
    "X_train['Credit_History'].value_counts(dropna = False)"
   ]
  },
  {
   "cell_type": "code",
   "execution_count": 25,
   "id": "a5a4c160",
   "metadata": {},
   "outputs": [],
   "source": [
    "X_train['Credit_History'] = X_train['Credit_History'].fillna(1)\n",
    "X_test['Credit_History'] = X_test['Credit_History'].fillna(1)"
   ]
  },
  {
   "cell_type": "code",
   "execution_count": null,
   "id": "e89151a4",
   "metadata": {},
   "outputs": [],
   "source": []
  },
  {
   "cell_type": "code",
   "execution_count": 26,
   "id": "45dabfdf",
   "metadata": {
    "scrolled": true
   },
   "outputs": [
    {
     "data": {
      "text/plain": [
       "Loan_ID              0\n",
       "Gender               0\n",
       "Married              0\n",
       "Dependents           0\n",
       "Education            0\n",
       "Self_Employed        0\n",
       "ApplicantIncome      0\n",
       "CoapplicantIncome    0\n",
       "LoanAmount           0\n",
       "Loan_Amount_Term     0\n",
       "Credit_History       0\n",
       "Property_Area        0\n",
       "dtype: int64"
      ]
     },
     "execution_count": 26,
     "metadata": {},
     "output_type": "execute_result"
    }
   ],
   "source": [
    "X_train.isna().sum()"
   ]
  },
  {
   "cell_type": "code",
   "execution_count": null,
   "id": "c9c52556",
   "metadata": {},
   "outputs": [],
   "source": []
  },
  {
   "cell_type": "markdown",
   "id": "9aed49d5",
   "metadata": {},
   "source": [
    "# --> Handling Categorical values"
   ]
  },
  {
   "cell_type": "markdown",
   "id": "e4cb12e1",
   "metadata": {},
   "source": [
    "## 1. Gender"
   ]
  },
  {
   "cell_type": "code",
   "execution_count": 27,
   "id": "bc744000",
   "metadata": {},
   "outputs": [],
   "source": [
    "X_train['Gender'] = X_train['Gender'].apply(lambda x: 0 if x == 'Male' else 1)"
   ]
  },
  {
   "cell_type": "code",
   "execution_count": 28,
   "id": "ad15f32c",
   "metadata": {},
   "outputs": [],
   "source": [
    "X_test['Gender'] = X_test['Gender'].apply(lambda x: 0 if x == 'Male' else 1)"
   ]
  },
  {
   "cell_type": "markdown",
   "id": "328a2333",
   "metadata": {},
   "source": [
    "## 2. Married"
   ]
  },
  {
   "cell_type": "code",
   "execution_count": 29,
   "id": "3e699470",
   "metadata": {},
   "outputs": [],
   "source": [
    "X_train['Married'] = X_train['Married'].apply(lambda x: 0 if x == 'Yes' else 1)"
   ]
  },
  {
   "cell_type": "code",
   "execution_count": 30,
   "id": "3a89ceef",
   "metadata": {},
   "outputs": [],
   "source": [
    "X_test['Married'] = X_test['Married'].apply(lambda x: 0 if x == 'Yes' else 1)"
   ]
  },
  {
   "cell_type": "markdown",
   "id": "8ceca408",
   "metadata": {},
   "source": [
    "## 3. Dependents and Property_Area (Multiple Categories)"
   ]
  },
  {
   "cell_type": "code",
   "execution_count": 31,
   "id": "8df92829",
   "metadata": {},
   "outputs": [],
   "source": [
    "from sklearn.preprocessing import OneHotEncoder"
   ]
  },
  {
   "cell_type": "code",
   "execution_count": 32,
   "id": "9dae5e85",
   "metadata": {},
   "outputs": [],
   "source": [
    "encoder = OneHotEncoder(handle_unknown='ignore', sparse=False)\n",
    "\n",
    "cat_X_train = pd.DataFrame(encoder.fit_transform(X_train[['Dependents', 'Property_Area']]), \n",
    "             columns = {'Dependents_0', 'Dependents_1', 'Dependents_2', 'Dependents_3_plus',\n",
    "                        'Property_Rural', 'Property_Semiurban', 'Property_Urban'})\n",
    "cat_X_train.index = X_train.index\n",
    "X_train = X_train.join(cat_X_train)"
   ]
  },
  {
   "cell_type": "code",
   "execution_count": 33,
   "id": "4bf393b1",
   "metadata": {},
   "outputs": [],
   "source": [
    "cat_X_test = pd.DataFrame(encoder.transform(X_test[['Dependents', 'Property_Area']]), \n",
    "                         columns = {'Dependents_0', 'Dependents_1', 'Dependents_2', 'Dependents_3_plus',\n",
    "                                    'Property_Rural', 'Property_Semiurban', 'Property_Urban'})\n",
    "cat_X_test.index = X_test.index\n",
    "X_test = X_test.join(cat_X_test)"
   ]
  },
  {
   "cell_type": "code",
   "execution_count": 34,
   "id": "6c5acdc5",
   "metadata": {},
   "outputs": [],
   "source": [
    "X_test = X_test.drop(['Dependents', 'Property_Area'], axis = 1)\n",
    "X_train = X_train.drop(['Dependents', 'Property_Area'], axis = 1)"
   ]
  },
  {
   "cell_type": "markdown",
   "id": "80cf119f",
   "metadata": {},
   "source": [
    "## 4. Education"
   ]
  },
  {
   "cell_type": "code",
   "execution_count": 35,
   "id": "dbab24da",
   "metadata": {},
   "outputs": [
    {
     "data": {
      "text/plain": [
       "Graduate        379\n",
       "Not Graduate    112\n",
       "Name: Education, dtype: int64"
      ]
     },
     "execution_count": 35,
     "metadata": {},
     "output_type": "execute_result"
    }
   ],
   "source": [
    "X_train['Education'].value_counts(dropna = False)"
   ]
  },
  {
   "cell_type": "code",
   "execution_count": 36,
   "id": "f175488b",
   "metadata": {},
   "outputs": [],
   "source": [
    "X_train['Education'] = X_train['Education'].apply(lambda x: 0 if x == 'Graduate' else 1)\n",
    "X_test['Education'] = X_test['Education'].apply(lambda x: 0 if x == 'Graduate' else 1)"
   ]
  },
  {
   "cell_type": "markdown",
   "id": "99ca8eb2",
   "metadata": {},
   "source": [
    "## 5. Self_Employed"
   ]
  },
  {
   "cell_type": "code",
   "execution_count": 37,
   "id": "301545da",
   "metadata": {
    "scrolled": true
   },
   "outputs": [
    {
     "data": {
      "text/plain": [
       "No     423\n",
       "Yes     68\n",
       "Name: Self_Employed, dtype: int64"
      ]
     },
     "execution_count": 37,
     "metadata": {},
     "output_type": "execute_result"
    }
   ],
   "source": [
    "X_train['Self_Employed'].value_counts(dropna = False)"
   ]
  },
  {
   "cell_type": "code",
   "execution_count": 38,
   "id": "712cfd51",
   "metadata": {},
   "outputs": [],
   "source": [
    "X_train['Self_Employed'] = X_train['Self_Employed'].apply(lambda x: 0 if x == 'Yes' else 1)\n",
    "X_test['Self_Employed'] = X_test['Self_Employed'].apply(lambda x: 0 if x == 'Yes' else 1)"
   ]
  },
  {
   "cell_type": "code",
   "execution_count": null,
   "id": "9b522c13",
   "metadata": {},
   "outputs": [],
   "source": []
  },
  {
   "cell_type": "code",
   "execution_count": 39,
   "id": "915dc58a",
   "metadata": {},
   "outputs": [],
   "source": [
    "X_train = X_train.drop(['Loan_ID'], axis = 1)\n",
    "X_test = X_test.drop(['Loan_ID'], axis = 1)"
   ]
  },
  {
   "cell_type": "code",
   "execution_count": 40,
   "id": "09800636",
   "metadata": {},
   "outputs": [
    {
     "data": {
      "text/html": [
       "<div>\n",
       "<style scoped>\n",
       "    .dataframe tbody tr th:only-of-type {\n",
       "        vertical-align: middle;\n",
       "    }\n",
       "\n",
       "    .dataframe tbody tr th {\n",
       "        vertical-align: top;\n",
       "    }\n",
       "\n",
       "    .dataframe thead th {\n",
       "        text-align: right;\n",
       "    }\n",
       "</style>\n",
       "<table border=\"1\" class=\"dataframe\">\n",
       "  <thead>\n",
       "    <tr style=\"text-align: right;\">\n",
       "      <th></th>\n",
       "      <th>Gender</th>\n",
       "      <th>Married</th>\n",
       "      <th>Education</th>\n",
       "      <th>Self_Employed</th>\n",
       "      <th>ApplicantIncome</th>\n",
       "      <th>CoapplicantIncome</th>\n",
       "      <th>LoanAmount</th>\n",
       "      <th>Loan_Amount_Term</th>\n",
       "      <th>Credit_History</th>\n",
       "      <th>Property_Urban</th>\n",
       "      <th>Dependents_2</th>\n",
       "      <th>Dependents_3_plus</th>\n",
       "      <th>Dependents_1</th>\n",
       "      <th>Property_Semiurban</th>\n",
       "      <th>Property_Rural</th>\n",
       "      <th>Dependents_0</th>\n",
       "    </tr>\n",
       "  </thead>\n",
       "  <tbody>\n",
       "    <tr>\n",
       "      <th>172</th>\n",
       "      <td>0</td>\n",
       "      <td>0</td>\n",
       "      <td>1</td>\n",
       "      <td>1</td>\n",
       "      <td>3522</td>\n",
       "      <td>0.0</td>\n",
       "      <td>81.0</td>\n",
       "      <td>180.0</td>\n",
       "      <td>1.0</td>\n",
       "      <td>0.0</td>\n",
       "      <td>0.0</td>\n",
       "      <td>0.0</td>\n",
       "      <td>1.0</td>\n",
       "      <td>1.0</td>\n",
       "      <td>0.0</td>\n",
       "      <td>0.0</td>\n",
       "    </tr>\n",
       "    <tr>\n",
       "      <th>474</th>\n",
       "      <td>0</td>\n",
       "      <td>1</td>\n",
       "      <td>0</td>\n",
       "      <td>1</td>\n",
       "      <td>5532</td>\n",
       "      <td>4648.0</td>\n",
       "      <td>162.0</td>\n",
       "      <td>360.0</td>\n",
       "      <td>1.0</td>\n",
       "      <td>0.0</td>\n",
       "      <td>0.0</td>\n",
       "      <td>1.0</td>\n",
       "      <td>0.0</td>\n",
       "      <td>1.0</td>\n",
       "      <td>0.0</td>\n",
       "      <td>0.0</td>\n",
       "    </tr>\n",
       "    <tr>\n",
       "      <th>273</th>\n",
       "      <td>0</td>\n",
       "      <td>0</td>\n",
       "      <td>0</td>\n",
       "      <td>1</td>\n",
       "      <td>2620</td>\n",
       "      <td>2223.0</td>\n",
       "      <td>150.0</td>\n",
       "      <td>360.0</td>\n",
       "      <td>1.0</td>\n",
       "      <td>1.0</td>\n",
       "      <td>0.0</td>\n",
       "      <td>0.0</td>\n",
       "      <td>0.0</td>\n",
       "      <td>0.0</td>\n",
       "      <td>1.0</td>\n",
       "      <td>0.0</td>\n",
       "    </tr>\n",
       "    <tr>\n",
       "      <th>25</th>\n",
       "      <td>0</td>\n",
       "      <td>0</td>\n",
       "      <td>0</td>\n",
       "      <td>0</td>\n",
       "      <td>9560</td>\n",
       "      <td>0.0</td>\n",
       "      <td>191.0</td>\n",
       "      <td>360.0</td>\n",
       "      <td>1.0</td>\n",
       "      <td>1.0</td>\n",
       "      <td>0.0</td>\n",
       "      <td>0.0</td>\n",
       "      <td>0.0</td>\n",
       "      <td>0.0</td>\n",
       "      <td>1.0</td>\n",
       "      <td>0.0</td>\n",
       "    </tr>\n",
       "    <tr>\n",
       "      <th>411</th>\n",
       "      <td>0</td>\n",
       "      <td>0</td>\n",
       "      <td>0</td>\n",
       "      <td>1</td>\n",
       "      <td>6256</td>\n",
       "      <td>0.0</td>\n",
       "      <td>160.0</td>\n",
       "      <td>360.0</td>\n",
       "      <td>1.0</td>\n",
       "      <td>1.0</td>\n",
       "      <td>0.0</td>\n",
       "      <td>0.0</td>\n",
       "      <td>0.0</td>\n",
       "      <td>0.0</td>\n",
       "      <td>0.0</td>\n",
       "      <td>1.0</td>\n",
       "    </tr>\n",
       "  </tbody>\n",
       "</table>\n",
       "</div>"
      ],
      "text/plain": [
       "     Gender  Married  Education  Self_Employed  ApplicantIncome  \\\n",
       "172       0        0          1              1             3522   \n",
       "474       0        1          0              1             5532   \n",
       "273       0        0          0              1             2620   \n",
       "25        0        0          0              0             9560   \n",
       "411       0        0          0              1             6256   \n",
       "\n",
       "     CoapplicantIncome  LoanAmount  Loan_Amount_Term  Credit_History  \\\n",
       "172                0.0        81.0             180.0             1.0   \n",
       "474             4648.0       162.0             360.0             1.0   \n",
       "273             2223.0       150.0             360.0             1.0   \n",
       "25                 0.0       191.0             360.0             1.0   \n",
       "411                0.0       160.0             360.0             1.0   \n",
       "\n",
       "     Property_Urban  Dependents_2  Dependents_3_plus  Dependents_1  \\\n",
       "172             0.0           0.0                0.0           1.0   \n",
       "474             0.0           0.0                1.0           0.0   \n",
       "273             1.0           0.0                0.0           0.0   \n",
       "25              1.0           0.0                0.0           0.0   \n",
       "411             1.0           0.0                0.0           0.0   \n",
       "\n",
       "     Property_Semiurban  Property_Rural  Dependents_0  \n",
       "172                 1.0             0.0           0.0  \n",
       "474                 1.0             0.0           0.0  \n",
       "273                 0.0             1.0           0.0  \n",
       "25                  0.0             1.0           0.0  \n",
       "411                 0.0             0.0           1.0  "
      ]
     },
     "execution_count": 40,
     "metadata": {},
     "output_type": "execute_result"
    }
   ],
   "source": [
    "X_train.head()"
   ]
  },
  {
   "cell_type": "markdown",
   "id": "bb01c9aa",
   "metadata": {},
   "source": [
    "# Outlier (After first model)"
   ]
  },
  {
   "cell_type": "code",
   "execution_count": 55,
   "id": "6fd08851",
   "metadata": {
    "scrolled": false
   },
   "outputs": [
    {
     "data": {
      "text/plain": [
       "172         NaN\n",
       "474   -1.369324\n",
       "273   -2.306376\n",
       "25    -0.465162\n",
       "411   -1.476208\n",
       "         ...   \n",
       "242   -1.807511\n",
       "174         NaN\n",
       "120   -0.721003\n",
       "275         NaN\n",
       "298   -2.184716\n",
       "Name: LoanAmount, Length: 491, dtype: float64"
      ]
     },
     "execution_count": 55,
     "metadata": {},
     "output_type": "execute_result"
    }
   ],
   "source": [
    "np.log(X_train['LoanAmount'])"
   ]
  },
  {
   "cell_type": "markdown",
   "id": "6d3fb2f5",
   "metadata": {},
   "source": [
    "# Model"
   ]
  },
  {
   "cell_type": "code",
   "execution_count": 44,
   "id": "1a26aa34",
   "metadata": {},
   "outputs": [],
   "source": [
    "from sklearn.linear_model import LogisticRegression\n",
    "from sklearn.metrics import classification_report, confusion_matrix\n",
    "from sklearn.metrics import accuracy_score"
   ]
  },
  {
   "cell_type": "code",
   "execution_count": 45,
   "id": "169c0567",
   "metadata": {},
   "outputs": [],
   "source": [
    "model = LogisticRegression(random_state = 18)\n",
    "model.fit(X_train, y_train)\n",
    "\n",
    "pred = model.predict(X_test)"
   ]
  },
  {
   "cell_type": "code",
   "execution_count": 46,
   "id": "fda9a4d0",
   "metadata": {
    "scrolled": true
   },
   "outputs": [
    {
     "name": "stdout",
     "output_type": "stream",
     "text": [
      "[[18 25]\n",
      " [ 2 78]]\n",
      "              precision    recall  f1-score   support\n",
      "\n",
      "           N       0.90      0.42      0.57        43\n",
      "           Y       0.76      0.97      0.85        80\n",
      "\n",
      "    accuracy                           0.78       123\n",
      "   macro avg       0.83      0.70      0.71       123\n",
      "weighted avg       0.81      0.78      0.75       123\n",
      "\n"
     ]
    }
   ],
   "source": [
    "print(confusion_matrix(y_test, pred))\n",
    "print(classification_report(y_test, pred))"
   ]
  },
  {
   "cell_type": "markdown",
   "id": "961037ce",
   "metadata": {},
   "source": [
    "## First Model without outlier and without std\n",
    "[[18 25]\n",
    " [ 2 78]]\n",
    "              precision    recall  f1-score   support\n",
    "\n",
    "           N       0.90      0.42      0.57        43\n",
    "           Y       0.76      0.97      0.85        80\n",
    "\n",
    "- accuracy                           0.78       123\n",
    "- macro avg       0.83      0.70      0.71       123\n",
    "- weighted avg       0.81      0.78      0.75       123\n",
    "- accuracy_score = 0.7804878048780488\n",
    "\n"
   ]
  },
  {
   "cell_type": "code",
   "execution_count": 47,
   "id": "24bf90c6",
   "metadata": {},
   "outputs": [
    {
     "name": "stdout",
     "output_type": "stream",
     "text": [
      "0.7804878048780488\n"
     ]
    }
   ],
   "source": [
    "print(accuracy_score(y_test, pred))"
   ]
  },
  {
   "cell_type": "code",
   "execution_count": 69,
   "id": "683f79dd",
   "metadata": {},
   "outputs": [
    {
     "ename": "AttributeError",
     "evalue": "'LogisticRegression' object has no attribute 'feature_importances_'",
     "output_type": "error",
     "traceback": [
      "\u001b[0;31m---------------------------------------------------------------------------\u001b[0m",
      "\u001b[0;31mAttributeError\u001b[0m                            Traceback (most recent call last)",
      "\u001b[0;32m/tmp/ipykernel_242770/3501583599.py\u001b[0m in \u001b[0;36m<module>\u001b[0;34m\u001b[0m\n\u001b[0;32m----> 1\u001b[0;31m \u001b[0mimportances\u001b[0m\u001b[0;34m=\u001b[0m\u001b[0mpd\u001b[0m\u001b[0;34m.\u001b[0m\u001b[0mSeries\u001b[0m\u001b[0;34m(\u001b[0m\u001b[0mmodel\u001b[0m\u001b[0;34m.\u001b[0m\u001b[0mfeature_importances_\u001b[0m\u001b[0;34m,\u001b[0m \u001b[0mindex\u001b[0m\u001b[0;34m=\u001b[0m\u001b[0mX\u001b[0m\u001b[0;34m.\u001b[0m\u001b[0mcolumns\u001b[0m\u001b[0;34m)\u001b[0m\u001b[0;34m\u001b[0m\u001b[0;34m\u001b[0m\u001b[0m\n\u001b[0m\u001b[1;32m      2\u001b[0m \u001b[0mimportances\u001b[0m\u001b[0;34m.\u001b[0m\u001b[0mplot\u001b[0m\u001b[0;34m(\u001b[0m\u001b[0mkind\u001b[0m\u001b[0;34m=\u001b[0m\u001b[0;34m'barh'\u001b[0m\u001b[0;34m,\u001b[0m \u001b[0mfigsize\u001b[0m\u001b[0;34m=\u001b[0m\u001b[0;34m(\u001b[0m\u001b[0;36m12\u001b[0m\u001b[0;34m,\u001b[0m\u001b[0;36m8\u001b[0m\u001b[0;34m)\u001b[0m\u001b[0;34m)\u001b[0m\u001b[0;34m\u001b[0m\u001b[0;34m\u001b[0m\u001b[0m\n",
      "\u001b[0;31mAttributeError\u001b[0m: 'LogisticRegression' object has no attribute 'feature_importances_'"
     ]
    }
   ],
   "source": []
  },
  {
   "cell_type": "code",
   "execution_count": null,
   "id": "fccb9dcd",
   "metadata": {},
   "outputs": [],
   "source": []
  },
  {
   "cell_type": "code",
   "execution_count": null,
   "id": "45f301db",
   "metadata": {},
   "outputs": [],
   "source": []
  },
  {
   "cell_type": "code",
   "execution_count": null,
   "id": "cab57476",
   "metadata": {},
   "outputs": [],
   "source": []
  },
  {
   "cell_type": "code",
   "execution_count": null,
   "id": "686cfdb4",
   "metadata": {},
   "outputs": [],
   "source": []
  },
  {
   "cell_type": "code",
   "execution_count": null,
   "id": "1a84afd8",
   "metadata": {},
   "outputs": [],
   "source": []
  }
 ],
 "metadata": {
  "kernelspec": {
   "display_name": "Python 3 (ipykernel)",
   "language": "python",
   "name": "python3"
  },
  "language_info": {
   "codemirror_mode": {
    "name": "ipython",
    "version": 3
   },
   "file_extension": ".py",
   "mimetype": "text/x-python",
   "name": "python",
   "nbconvert_exporter": "python",
   "pygments_lexer": "ipython3",
   "version": "3.9.7"
  }
 },
 "nbformat": 4,
 "nbformat_minor": 5
}
