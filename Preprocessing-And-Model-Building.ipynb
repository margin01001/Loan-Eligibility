{
 "cells": [
  {
   "cell_type": "code",
   "execution_count": 1,
   "id": "dbb5b668",
   "metadata": {},
   "outputs": [],
   "source": [
    "import pandas as pd\n",
    "import numpy as np\n",
    "import seaborn as sns\n",
    "import matplotlib.pyplot as plt\n",
    "import pickle"
   ]
  },
  {
   "cell_type": "code",
   "execution_count": 2,
   "id": "7df73dc0",
   "metadata": {},
   "outputs": [],
   "source": [
    "df = pd.read_csv(\"./Data/loan_data_set.csv\")"
   ]
  },
  {
   "cell_type": "markdown",
   "id": "296b2b83",
   "metadata": {},
   "source": [
    "# --> Handling NaN values"
   ]
  },
  {
   "cell_type": "markdown",
   "id": "1105be50",
   "metadata": {},
   "source": [
    "## Test and Train Split\n",
    "- Before Handlind NaN values we are going to split the data because of data leakage"
   ]
  },
  {
   "cell_type": "code",
   "execution_count": 3,
   "id": "3fef2ebb",
   "metadata": {},
   "outputs": [],
   "source": [
    "from sklearn.model_selection import train_test_split\n",
    "\n",
    "X = df.drop('Loan_Status', axis = 1)\n",
    "y = df['Loan_Status']\n",
    "\n",
    "X_train, X_test, y_train, y_test = train_test_split(X, y, test_size=0.2, random_state=18)"
   ]
  },
  {
   "cell_type": "code",
   "execution_count": 4,
   "id": "4e1bdc5d",
   "metadata": {
    "scrolled": false
   },
   "outputs": [
    {
     "data": {
      "text/html": [
       "<div>\n",
       "<style scoped>\n",
       "    .dataframe tbody tr th:only-of-type {\n",
       "        vertical-align: middle;\n",
       "    }\n",
       "\n",
       "    .dataframe tbody tr th {\n",
       "        vertical-align: top;\n",
       "    }\n",
       "\n",
       "    .dataframe thead th {\n",
       "        text-align: right;\n",
       "    }\n",
       "</style>\n",
       "<table border=\"1\" class=\"dataframe\">\n",
       "  <thead>\n",
       "    <tr style=\"text-align: right;\">\n",
       "      <th></th>\n",
       "      <th>Loan_ID</th>\n",
       "      <th>Gender</th>\n",
       "      <th>Married</th>\n",
       "      <th>Dependents</th>\n",
       "      <th>Education</th>\n",
       "      <th>Self_Employed</th>\n",
       "      <th>ApplicantIncome</th>\n",
       "      <th>CoapplicantIncome</th>\n",
       "      <th>LoanAmount</th>\n",
       "      <th>Loan_Amount_Term</th>\n",
       "      <th>Credit_History</th>\n",
       "      <th>Property_Area</th>\n",
       "      <th>Loan_Status</th>\n",
       "    </tr>\n",
       "  </thead>\n",
       "  <tbody>\n",
       "    <tr>\n",
       "      <th>0</th>\n",
       "      <td>LP001002</td>\n",
       "      <td>Male</td>\n",
       "      <td>No</td>\n",
       "      <td>0</td>\n",
       "      <td>Graduate</td>\n",
       "      <td>No</td>\n",
       "      <td>5849</td>\n",
       "      <td>0.0</td>\n",
       "      <td>NaN</td>\n",
       "      <td>360.0</td>\n",
       "      <td>1.0</td>\n",
       "      <td>Urban</td>\n",
       "      <td>Y</td>\n",
       "    </tr>\n",
       "    <tr>\n",
       "      <th>1</th>\n",
       "      <td>LP001003</td>\n",
       "      <td>Male</td>\n",
       "      <td>Yes</td>\n",
       "      <td>1</td>\n",
       "      <td>Graduate</td>\n",
       "      <td>No</td>\n",
       "      <td>4583</td>\n",
       "      <td>1508.0</td>\n",
       "      <td>128.0</td>\n",
       "      <td>360.0</td>\n",
       "      <td>1.0</td>\n",
       "      <td>Rural</td>\n",
       "      <td>N</td>\n",
       "    </tr>\n",
       "    <tr>\n",
       "      <th>2</th>\n",
       "      <td>LP001005</td>\n",
       "      <td>Male</td>\n",
       "      <td>Yes</td>\n",
       "      <td>0</td>\n",
       "      <td>Graduate</td>\n",
       "      <td>Yes</td>\n",
       "      <td>3000</td>\n",
       "      <td>0.0</td>\n",
       "      <td>66.0</td>\n",
       "      <td>360.0</td>\n",
       "      <td>1.0</td>\n",
       "      <td>Urban</td>\n",
       "      <td>Y</td>\n",
       "    </tr>\n",
       "    <tr>\n",
       "      <th>3</th>\n",
       "      <td>LP001006</td>\n",
       "      <td>Male</td>\n",
       "      <td>Yes</td>\n",
       "      <td>0</td>\n",
       "      <td>Not Graduate</td>\n",
       "      <td>No</td>\n",
       "      <td>2583</td>\n",
       "      <td>2358.0</td>\n",
       "      <td>120.0</td>\n",
       "      <td>360.0</td>\n",
       "      <td>1.0</td>\n",
       "      <td>Urban</td>\n",
       "      <td>Y</td>\n",
       "    </tr>\n",
       "    <tr>\n",
       "      <th>4</th>\n",
       "      <td>LP001008</td>\n",
       "      <td>Male</td>\n",
       "      <td>No</td>\n",
       "      <td>0</td>\n",
       "      <td>Graduate</td>\n",
       "      <td>No</td>\n",
       "      <td>6000</td>\n",
       "      <td>0.0</td>\n",
       "      <td>141.0</td>\n",
       "      <td>360.0</td>\n",
       "      <td>1.0</td>\n",
       "      <td>Urban</td>\n",
       "      <td>Y</td>\n",
       "    </tr>\n",
       "    <tr>\n",
       "      <th>...</th>\n",
       "      <td>...</td>\n",
       "      <td>...</td>\n",
       "      <td>...</td>\n",
       "      <td>...</td>\n",
       "      <td>...</td>\n",
       "      <td>...</td>\n",
       "      <td>...</td>\n",
       "      <td>...</td>\n",
       "      <td>...</td>\n",
       "      <td>...</td>\n",
       "      <td>...</td>\n",
       "      <td>...</td>\n",
       "      <td>...</td>\n",
       "    </tr>\n",
       "    <tr>\n",
       "      <th>609</th>\n",
       "      <td>LP002978</td>\n",
       "      <td>Female</td>\n",
       "      <td>No</td>\n",
       "      <td>0</td>\n",
       "      <td>Graduate</td>\n",
       "      <td>No</td>\n",
       "      <td>2900</td>\n",
       "      <td>0.0</td>\n",
       "      <td>71.0</td>\n",
       "      <td>360.0</td>\n",
       "      <td>1.0</td>\n",
       "      <td>Rural</td>\n",
       "      <td>Y</td>\n",
       "    </tr>\n",
       "    <tr>\n",
       "      <th>610</th>\n",
       "      <td>LP002979</td>\n",
       "      <td>Male</td>\n",
       "      <td>Yes</td>\n",
       "      <td>3+</td>\n",
       "      <td>Graduate</td>\n",
       "      <td>No</td>\n",
       "      <td>4106</td>\n",
       "      <td>0.0</td>\n",
       "      <td>40.0</td>\n",
       "      <td>180.0</td>\n",
       "      <td>1.0</td>\n",
       "      <td>Rural</td>\n",
       "      <td>Y</td>\n",
       "    </tr>\n",
       "    <tr>\n",
       "      <th>611</th>\n",
       "      <td>LP002983</td>\n",
       "      <td>Male</td>\n",
       "      <td>Yes</td>\n",
       "      <td>1</td>\n",
       "      <td>Graduate</td>\n",
       "      <td>No</td>\n",
       "      <td>8072</td>\n",
       "      <td>240.0</td>\n",
       "      <td>253.0</td>\n",
       "      <td>360.0</td>\n",
       "      <td>1.0</td>\n",
       "      <td>Urban</td>\n",
       "      <td>Y</td>\n",
       "    </tr>\n",
       "    <tr>\n",
       "      <th>612</th>\n",
       "      <td>LP002984</td>\n",
       "      <td>Male</td>\n",
       "      <td>Yes</td>\n",
       "      <td>2</td>\n",
       "      <td>Graduate</td>\n",
       "      <td>No</td>\n",
       "      <td>7583</td>\n",
       "      <td>0.0</td>\n",
       "      <td>187.0</td>\n",
       "      <td>360.0</td>\n",
       "      <td>1.0</td>\n",
       "      <td>Urban</td>\n",
       "      <td>Y</td>\n",
       "    </tr>\n",
       "    <tr>\n",
       "      <th>613</th>\n",
       "      <td>LP002990</td>\n",
       "      <td>Female</td>\n",
       "      <td>No</td>\n",
       "      <td>0</td>\n",
       "      <td>Graduate</td>\n",
       "      <td>Yes</td>\n",
       "      <td>4583</td>\n",
       "      <td>0.0</td>\n",
       "      <td>133.0</td>\n",
       "      <td>360.0</td>\n",
       "      <td>0.0</td>\n",
       "      <td>Semiurban</td>\n",
       "      <td>N</td>\n",
       "    </tr>\n",
       "  </tbody>\n",
       "</table>\n",
       "<p>614 rows × 13 columns</p>\n",
       "</div>"
      ],
      "text/plain": [
       "      Loan_ID  Gender Married Dependents     Education Self_Employed  \\\n",
       "0    LP001002    Male      No          0      Graduate            No   \n",
       "1    LP001003    Male     Yes          1      Graduate            No   \n",
       "2    LP001005    Male     Yes          0      Graduate           Yes   \n",
       "3    LP001006    Male     Yes          0  Not Graduate            No   \n",
       "4    LP001008    Male      No          0      Graduate            No   \n",
       "..        ...     ...     ...        ...           ...           ...   \n",
       "609  LP002978  Female      No          0      Graduate            No   \n",
       "610  LP002979    Male     Yes         3+      Graduate            No   \n",
       "611  LP002983    Male     Yes          1      Graduate            No   \n",
       "612  LP002984    Male     Yes          2      Graduate            No   \n",
       "613  LP002990  Female      No          0      Graduate           Yes   \n",
       "\n",
       "     ApplicantIncome  CoapplicantIncome  LoanAmount  Loan_Amount_Term  \\\n",
       "0               5849                0.0         NaN             360.0   \n",
       "1               4583             1508.0       128.0             360.0   \n",
       "2               3000                0.0        66.0             360.0   \n",
       "3               2583             2358.0       120.0             360.0   \n",
       "4               6000                0.0       141.0             360.0   \n",
       "..               ...                ...         ...               ...   \n",
       "609             2900                0.0        71.0             360.0   \n",
       "610             4106                0.0        40.0             180.0   \n",
       "611             8072              240.0       253.0             360.0   \n",
       "612             7583                0.0       187.0             360.0   \n",
       "613             4583                0.0       133.0             360.0   \n",
       "\n",
       "     Credit_History Property_Area Loan_Status  \n",
       "0               1.0         Urban           Y  \n",
       "1               1.0         Rural           N  \n",
       "2               1.0         Urban           Y  \n",
       "3               1.0         Urban           Y  \n",
       "4               1.0         Urban           Y  \n",
       "..              ...           ...         ...  \n",
       "609             1.0         Rural           Y  \n",
       "610             1.0         Rural           Y  \n",
       "611             1.0         Urban           Y  \n",
       "612             1.0         Urban           Y  \n",
       "613             0.0     Semiurban           N  \n",
       "\n",
       "[614 rows x 13 columns]"
      ]
     },
     "execution_count": 4,
     "metadata": {},
     "output_type": "execute_result"
    }
   ],
   "source": [
    "df"
   ]
  },
  {
   "cell_type": "code",
   "execution_count": 5,
   "id": "f1a825b1",
   "metadata": {},
   "outputs": [
    {
     "data": {
      "text/plain": [
       "Y    422\n",
       "N    192\n",
       "Name: Loan_Status, dtype: int64"
      ]
     },
     "execution_count": 5,
     "metadata": {},
     "output_type": "execute_result"
    }
   ],
   "source": [
    "df['Loan_Status'].value_counts()"
   ]
  },
  {
   "cell_type": "markdown",
   "id": "512b2442",
   "metadata": {},
   "source": [
    "## 1. Gender\n",
    "- if the applicant is married there is a high chance of male applicant\n",
    "- Mode of Gender variable is 'Male'"
   ]
  },
  {
   "cell_type": "code",
   "execution_count": 6,
   "id": "c15cd55e",
   "metadata": {},
   "outputs": [
    {
     "data": {
      "text/plain": [
       "<AxesSubplot:xlabel='Married', ylabel='count'>"
      ]
     },
     "execution_count": 6,
     "metadata": {},
     "output_type": "execute_result"
    },
    {
     "data": {
      "image/png": "[encoded data removed]",
      "text/plain": [
       "<Figure size 432x288 with 1 Axes>"
      ]
     },
     "metadata": {
      "needs_background": "light"
     },
     "output_type": "display_data"
    }
   ],
   "source": [
    "sns.countplot(x = X_train['Married'], hue = X_train['Gender'])"
   ]
  },
  {
   "cell_type": "code",
   "execution_count": 7,
   "id": "529755d5",
   "metadata": {},
   "outputs": [
    {
     "data": {
      "text/plain": [
       "Yes    5\n",
       "No     1\n",
       "Name: Married, dtype: int64"
      ]
     },
     "execution_count": 7,
     "metadata": {},
     "output_type": "execute_result"
    }
   ],
   "source": [
    "X_train[X_train['Gender'].isna() == True]['Married'].value_counts(dropna = False)"
   ]
  },
  {
   "cell_type": "code",
   "execution_count": 8,
   "id": "9051958a",
   "metadata": {},
   "outputs": [],
   "source": [
    "X_train['Gender'] = X_train['Gender'].fillna('Male')\n",
    "X_test['Gender'] = X_test['Gender'].fillna('Male')"
   ]
  },
  {
   "cell_type": "markdown",
   "id": "040fe8b9",
   "metadata": {},
   "source": [
    "## 2. Married"
   ]
  },
  {
   "cell_type": "code",
   "execution_count": 9,
   "id": "2db910be",
   "metadata": {},
   "outputs": [
    {
     "data": {
      "text/plain": [
       "Yes    319\n",
       "No     169\n",
       "NaN      3\n",
       "Name: Married, dtype: int64"
      ]
     },
     "execution_count": 9,
     "metadata": {},
     "output_type": "execute_result"
    }
   ],
   "source": [
    "X_train['Married'].value_counts(dropna = False)"
   ]
  },
  {
   "cell_type": "code",
   "execution_count": 10,
   "id": "9b7ebf64",
   "metadata": {},
   "outputs": [],
   "source": [
    "X_train['Married'] = X_train['Married'].fillna(X_train['Married'].mode()[0])\n",
    "X_test['Married'] = X_test['Married'].fillna(X_train['Married'].mode()[0])\n"
   ]
  },
  {
   "cell_type": "markdown",
   "id": "af131401",
   "metadata": {},
   "source": [
    "## 3. Dependents\n",
    "- Mode of Dependents feature is '0'"
   ]
  },
  {
   "cell_type": "code",
   "execution_count": 11,
   "id": "0a446a42",
   "metadata": {
    "scrolled": true
   },
   "outputs": [
    {
     "data": {
      "text/plain": [
       "0      271\n",
       "2       85\n",
       "1       77\n",
       "3+      43\n",
       "NaN     15\n",
       "Name: Dependents, dtype: int64"
      ]
     },
     "execution_count": 11,
     "metadata": {},
     "output_type": "execute_result"
    }
   ],
   "source": [
    "X_train['Dependents'].value_counts(dropna = False)"
   ]
  },
  {
   "cell_type": "code",
   "execution_count": 12,
   "id": "d20611ec",
   "metadata": {},
   "outputs": [
    {
     "data": {
      "text/plain": [
       "Yes    11\n",
       "No      4\n",
       "Name: Married, dtype: int64"
      ]
     },
     "execution_count": 12,
     "metadata": {},
     "output_type": "execute_result"
    }
   ],
   "source": [
    "X_train[X_train['Dependents'].isna() == True]['Married'].value_counts(dropna = False)"
   ]
  },
  {
   "cell_type": "code",
   "execution_count": 13,
   "id": "8186ea98",
   "metadata": {},
   "outputs": [
    {
     "data": {
      "text/plain": [
       "<AxesSubplot:xlabel='Dependents', ylabel='count'>"
      ]
     },
     "execution_count": 13,
     "metadata": {},
     "output_type": "execute_result"
    },
    {
     "data": {
      "image/png": "[encoded data removed]",
      "text/plain": [
       "<Figure size 432x288 with 1 Axes>"
      ]
     },
     "metadata": {
      "needs_background": "light"
     },
     "output_type": "display_data"
    }
   ],
   "source": [
    "sns.countplot(x = df['Dependents'], hue = df['Married'])"
   ]
  },
  {
   "cell_type": "code",
   "execution_count": 14,
   "id": "5687c83a",
   "metadata": {},
   "outputs": [],
   "source": [
    "X_test['Dependents'] = X_test['Dependents'].fillna(X_train['Dependents'].mode()[0])\n",
    "X_train['Dependents'] = X_train['Dependents'].fillna(X_train['Dependents'].mode()[0])\n"
   ]
  },
  {
   "cell_type": "code",
   "execution_count": 15,
   "id": "72cd8edc",
   "metadata": {},
   "outputs": [],
   "source": [
    "X_train['Dependents'] = X_train['Dependents'].replace('3+', 3).astype('int64')\n",
    "X_test['Dependents'] = X_test['Dependents'].replace('3+', 3).astype('int64')\n"
   ]
  },
  {
   "cell_type": "markdown",
   "id": "2c4e12bd",
   "metadata": {},
   "source": [
    "## 4. Self_Employed"
   ]
  },
  {
   "cell_type": "code",
   "execution_count": 16,
   "id": "a7f62526",
   "metadata": {},
   "outputs": [
    {
     "data": {
      "text/plain": [
       "No     398\n",
       "Yes     68\n",
       "NaN     25\n",
       "Name: Self_Employed, dtype: int64"
      ]
     },
     "execution_count": 16,
     "metadata": {},
     "output_type": "execute_result"
    }
   ],
   "source": [
    "X_train['Self_Employed'].value_counts(dropna = False)"
   ]
  },
  {
   "cell_type": "code",
   "execution_count": 17,
   "id": "ac325481",
   "metadata": {},
   "outputs": [],
   "source": [
    "X_train['Self_Employed'] = X_train['Self_Employed'].fillna(X_train['Self_Employed'].mode()[0])\n",
    "X_test['Self_Employed'] = X_test['Self_Employed'].fillna(X_train['Self_Employed'].mode()[0])\n"
   ]
  },
  {
   "cell_type": "markdown",
   "id": "ae140f56",
   "metadata": {},
   "source": [
    "## 5. LoanAmount"
   ]
  },
  {
   "cell_type": "code",
   "execution_count": 18,
   "id": "cdbf25d1",
   "metadata": {},
   "outputs": [
    {
     "data": {
      "text/plain": [
       "18"
      ]
     },
     "execution_count": 18,
     "metadata": {},
     "output_type": "execute_result"
    }
   ],
   "source": [
    "X_train['LoanAmount'].isna().sum()"
   ]
  },
  {
   "cell_type": "code",
   "execution_count": 19,
   "id": "2217df57",
   "metadata": {},
   "outputs": [
    {
     "data": {
      "text/plain": [
       "142.92389006342495"
      ]
     },
     "execution_count": 19,
     "metadata": {},
     "output_type": "execute_result"
    }
   ],
   "source": [
    "X_train['LoanAmount'].mean()"
   ]
  },
  {
   "cell_type": "code",
   "execution_count": 20,
   "id": "848b9c7f",
   "metadata": {},
   "outputs": [
    {
     "data": {
      "text/plain": [
       "<AxesSubplot:xlabel='LoanAmount', ylabel='Count'>"
      ]
     },
     "execution_count": 20,
     "metadata": {},
     "output_type": "execute_result"
    },
    {
     "data": {
      "image/png": "[encoded data removed]",
      "text/plain": [
       "<Figure size 432x288 with 1 Axes>"
      ]
     },
     "metadata": {
      "needs_background": "light"
     },
     "output_type": "display_data"
    }
   ],
   "source": [
    "sns.histplot(X_train['LoanAmount'], kde = True)"
   ]
  },
  {
   "cell_type": "code",
   "execution_count": 21,
   "id": "8509524e",
   "metadata": {},
   "outputs": [
    {
     "data": {
      "text/plain": [
       "127.0"
      ]
     },
     "execution_count": 21,
     "metadata": {},
     "output_type": "execute_result"
    }
   ],
   "source": [
    "X_train['LoanAmount'].median()"
   ]
  },
  {
   "cell_type": "code",
   "execution_count": 22,
   "id": "12bd72eb",
   "metadata": {},
   "outputs": [],
   "source": [
    "X_train['LoanAmount'] = X_train['LoanAmount'].fillna(X_train['LoanAmount'].median())\n",
    "X_test['LoanAmount'] = X_test['LoanAmount'].fillna(X_train['LoanAmount'].median())"
   ]
  },
  {
   "cell_type": "markdown",
   "id": "2d225035",
   "metadata": {},
   "source": [
    "## 6. Loan_Amount_Term"
   ]
  },
  {
   "cell_type": "code",
   "execution_count": 23,
   "id": "183adef5",
   "metadata": {},
   "outputs": [
    {
     "data": {
      "text/plain": [
       "360.0    408\n",
       "180.0     39\n",
       "480.0     13\n",
       "300.0     11\n",
       "NaN        8\n",
       "240.0      3\n",
       "120.0      3\n",
       "36.0       2\n",
       "84.0       2\n",
       "60.0       2\n",
       "Name: Loan_Amount_Term, dtype: int64"
      ]
     },
     "execution_count": 23,
     "metadata": {},
     "output_type": "execute_result"
    }
   ],
   "source": [
    "X_train['Loan_Amount_Term'].value_counts(dropna = False)"
   ]
  },
  {
   "cell_type": "code",
   "execution_count": 24,
   "id": "5fb11d90",
   "metadata": {},
   "outputs": [],
   "source": [
    "X_train['Loan_Amount_Term'] = X_train['Loan_Amount_Term'].fillna(360)\n",
    "X_test['Loan_Amount_Term'] = X_test['Loan_Amount_Term'].fillna(360)"
   ]
  },
  {
   "cell_type": "markdown",
   "id": "7faa3274",
   "metadata": {},
   "source": [
    "## 7. Credit_History"
   ]
  },
  {
   "cell_type": "code",
   "execution_count": 25,
   "id": "ed23677b",
   "metadata": {},
   "outputs": [
    {
     "data": {
      "text/plain": [
       "1.0    385\n",
       "0.0     69\n",
       "NaN     37\n",
       "Name: Credit_History, dtype: int64"
      ]
     },
     "execution_count": 25,
     "metadata": {},
     "output_type": "execute_result"
    }
   ],
   "source": [
    "X_train['Credit_History'].value_counts(dropna = False)"
   ]
  },
  {
   "cell_type": "code",
   "execution_count": 26,
   "id": "a5a4c160",
   "metadata": {},
   "outputs": [],
   "source": [
    "X_train['Credit_History'] = X_train['Credit_History'].fillna(1)\n",
    "X_test['Credit_History'] = X_test['Credit_History'].fillna(1)"
   ]
  },
  {
   "cell_type": "code",
   "execution_count": null,
   "id": "e89151a4",
   "metadata": {},
   "outputs": [],
   "source": []
  },
  {
   "cell_type": "code",
   "execution_count": 27,
   "id": "45dabfdf",
   "metadata": {
    "scrolled": true
   },
   "outputs": [
    {
     "data": {
      "text/plain": [
       "Loan_ID              0\n",
       "Gender               0\n",
       "Married              0\n",
       "Dependents           0\n",
       "Education            0\n",
       "Self_Employed        0\n",
       "ApplicantIncome      0\n",
       "CoapplicantIncome    0\n",
       "LoanAmount           0\n",
       "Loan_Amount_Term     0\n",
       "Credit_History       0\n",
       "Property_Area        0\n",
       "dtype: int64"
      ]
     },
     "execution_count": 27,
     "metadata": {},
     "output_type": "execute_result"
    }
   ],
   "source": [
    "X_train.isna().sum()"
   ]
  },
  {
   "cell_type": "markdown",
   "id": "9aed49d5",
   "metadata": {},
   "source": [
    "# --> Handling Categorical values"
   ]
  },
  {
   "cell_type": "markdown",
   "id": "e4cb12e1",
   "metadata": {},
   "source": [
    "## 1. Gender"
   ]
  },
  {
   "cell_type": "code",
   "execution_count": 28,
   "id": "bc744000",
   "metadata": {},
   "outputs": [],
   "source": [
    "X_train['Gender'] = X_train['Gender'].apply(lambda x: 0 if x == 'Male' else 1)\n",
    "X_test['Gender'] = X_test['Gender'].apply(lambda x: 0 if x == 'Male' else 1)"
   ]
  },
  {
   "cell_type": "markdown",
   "id": "328a2333",
   "metadata": {},
   "source": [
    "## 2. Married"
   ]
  },
  {
   "cell_type": "code",
   "execution_count": 29,
   "id": "3e699470",
   "metadata": {},
   "outputs": [],
   "source": [
    "X_train['Married'] = X_train['Married'].apply(lambda x: 0 if x == 'Yes' else 1)\n",
    "X_test['Married'] = X_test['Married'].apply(lambda x: 0 if x == 'Yes' else 1)"
   ]
  },
  {
   "cell_type": "markdown",
   "id": "8ceca408",
   "metadata": {},
   "source": [
    "## 3. Property_Area"
   ]
  },
  {
   "cell_type": "code",
   "execution_count": 30,
   "id": "8df92829",
   "metadata": {},
   "outputs": [],
   "source": [
    "from sklearn.preprocessing import OneHotEncoder"
   ]
  },
  {
   "cell_type": "code",
   "execution_count": 31,
   "id": "9dae5e85",
   "metadata": {},
   "outputs": [],
   "source": [
    "encoder = OneHotEncoder(handle_unknown='ignore', sparse=False)\n",
    "\n",
    "cat_X_train = pd.DataFrame(encoder.fit_transform(X_train[['Property_Area']]),\n",
    "                           columns = {'Property_Rural', 'Property_Semiurban', 'Property_Urban'})\n",
    "cat_X_train.index = X_train.index\n",
    "X_train = X_train.join(cat_X_train)\n",
    "\n",
    "cat_X_test = pd.DataFrame(encoder.transform(X_test[['Property_Area']]), \n",
    "                         columns = {'Property_Rural', 'Property_Semiurban', 'Property_Urban'})\n",
    "cat_X_test.index = X_test.index\n",
    "X_test = X_test.join(cat_X_test)"
   ]
  },
  {
   "cell_type": "code",
   "execution_count": 32,
   "id": "6c5acdc5",
   "metadata": {},
   "outputs": [],
   "source": [
    "X_test = X_test.drop(['Property_Area'], axis = 1)\n",
    "X_train = X_train.drop(['Property_Area'], axis = 1)"
   ]
  },
  {
   "cell_type": "markdown",
   "id": "80cf119f",
   "metadata": {},
   "source": [
    "## 4. Education"
   ]
  },
  {
   "cell_type": "code",
   "execution_count": 33,
   "id": "dbab24da",
   "metadata": {},
   "outputs": [
    {
     "data": {
      "text/plain": [
       "Graduate        379\n",
       "Not Graduate    112\n",
       "Name: Education, dtype: int64"
      ]
     },
     "execution_count": 33,
     "metadata": {},
     "output_type": "execute_result"
    }
   ],
   "source": [
    "X_train['Education'].value_counts(dropna = False)"
   ]
  },
  {
   "cell_type": "code",
   "execution_count": 34,
   "id": "f175488b",
   "metadata": {},
   "outputs": [],
   "source": [
    "X_train['Education'] = X_train['Education'].apply(lambda x: 0 if x == 'Graduate' else 1)\n",
    "X_test['Education'] = X_test['Education'].apply(lambda x: 0 if x == 'Graduate' else 1)"
   ]
  },
  {
   "cell_type": "markdown",
   "id": "99ca8eb2",
   "metadata": {},
   "source": [
    "## 5. Self_Employed"
   ]
  },
  {
   "cell_type": "code",
   "execution_count": 35,
   "id": "301545da",
   "metadata": {
    "scrolled": true
   },
   "outputs": [
    {
     "data": {
      "text/plain": [
       "No     423\n",
       "Yes     68\n",
       "Name: Self_Employed, dtype: int64"
      ]
     },
     "execution_count": 35,
     "metadata": {},
     "output_type": "execute_result"
    }
   ],
   "source": [
    "X_train['Self_Employed'].value_counts(dropna = False)"
   ]
  },
  {
   "cell_type": "code",
   "execution_count": 36,
   "id": "712cfd51",
   "metadata": {},
   "outputs": [],
   "source": [
    "X_train['Self_Employed'] = X_train['Self_Employed'].apply(lambda x: 0 if x == 'Yes' else 1)\n",
    "X_test['Self_Employed'] = X_test['Self_Employed'].apply(lambda x: 0 if x == 'Yes' else 1)"
   ]
  },
  {
   "cell_type": "code",
   "execution_count": null,
   "id": "9b522c13",
   "metadata": {},
   "outputs": [],
   "source": []
  },
  {
   "cell_type": "code",
   "execution_count": 37,
   "id": "915dc58a",
   "metadata": {},
   "outputs": [],
   "source": [
    "X_train = X_train.drop(['Loan_ID'], axis = 1)\n",
    "X_test = X_test.drop(['Loan_ID'], axis = 1)"
   ]
  },
  {
   "cell_type": "markdown",
   "id": "2a6e6271",
   "metadata": {},
   "source": [
    "# Feature Engineering"
   ]
  },
  {
   "cell_type": "markdown",
   "id": "5fba9df0",
   "metadata": {},
   "source": [
    "## Total Income = ApplicantIncome + CoapplicantIncome"
   ]
  },
  {
   "cell_type": "code",
   "execution_count": 38,
   "id": "456bb4cc",
   "metadata": {},
   "outputs": [],
   "source": [
    "# X_train['ApplicantIncome'] + X_train['CoapplicantIncome']"
   ]
  },
  {
   "cell_type": "code",
   "execution_count": 39,
   "id": "a882fecf",
   "metadata": {},
   "outputs": [],
   "source": [
    "X_train['TotalIncome'] = X_train['ApplicantIncome'] + X_train['CoapplicantIncome']\n",
    "X_test['TotalIncome'] = X_test['ApplicantIncome'] + X_test['CoapplicantIncome']"
   ]
  },
  {
   "cell_type": "code",
   "execution_count": 40,
   "id": "f2a081f4",
   "metadata": {},
   "outputs": [],
   "source": [
    "X_train = X_train.drop(['ApplicantIncome', 'CoapplicantIncome'], axis = 1)\n",
    "X_test = X_test.drop(['ApplicantIncome', 'CoapplicantIncome'], axis = 1)"
   ]
  },
  {
   "cell_type": "code",
   "execution_count": 41,
   "id": "15532116",
   "metadata": {},
   "outputs": [],
   "source": [
    "# X_train = X_train.drop(['Self_Employed'], axis = 1)\n",
    "# X_test = X_test.drop(['Self_Employed'], axis = 1)"
   ]
  },
  {
   "cell_type": "code",
   "execution_count": 42,
   "id": "cd350fd0",
   "metadata": {},
   "outputs": [],
   "source": [
    "# X_train = X_train.drop(['Education'], axis = 1)\n",
    "# X_test = X_test.drop(['Education'], axis = 1)"
   ]
  },
  {
   "cell_type": "code",
   "execution_count": 43,
   "id": "c83f0037",
   "metadata": {},
   "outputs": [],
   "source": [
    "# X_train = X_train.drop(['Credit_History'], axis = 1)\n",
    "# X_test = X_test.drop(['Credit_History'], axis = 1)"
   ]
  },
  {
   "cell_type": "code",
   "execution_count": 44,
   "id": "8378458e",
   "metadata": {},
   "outputs": [],
   "source": [
    "# X_train = X_train.drop(['Dependents'], axis = 1)\n",
    "# X_test = X_test.drop(['Dependents'], axis = 1)"
   ]
  },
  {
   "cell_type": "code",
   "execution_count": 45,
   "id": "2364d5e4",
   "metadata": {},
   "outputs": [],
   "source": [
    "# X_train = X_train.drop(['Married'], axis = 1)\n",
    "# X_test = X_test.drop(['Married'], axis = 1)"
   ]
  },
  {
   "cell_type": "code",
   "execution_count": 46,
   "id": "a6bfee27",
   "metadata": {},
   "outputs": [],
   "source": [
    "# X_train = X_train.drop(['Gender'], axis = 1)\n",
    "# X_test = X_test.drop(['Gender'], axis = 1)"
   ]
  },
  {
   "cell_type": "code",
   "execution_count": 47,
   "id": "b0b9826c",
   "metadata": {},
   "outputs": [],
   "source": [
    "# X_train = X_train.drop(['Loan_Amount_Term'], axis = 1)\n",
    "# X_test = X_test.drop(['Loan_Amount_Term'], axis = 1)"
   ]
  },
  {
   "cell_type": "code",
   "execution_count": 48,
   "id": "f849a1f2",
   "metadata": {},
   "outputs": [],
   "source": [
    "# X_train = X_train.drop(['LoanAmount'], axis = 1)\n",
    "# X_test = X_test.drop(['LoanAmount'], axis = 1)"
   ]
  },
  {
   "cell_type": "code",
   "execution_count": 49,
   "id": "1d1f53eb",
   "metadata": {},
   "outputs": [],
   "source": [
    "# X_train = X_train.drop(['Property_Rural', 'Property_Semiurban', 'Property_Urban'], axis = 1)\n",
    "# X_test = X_test.drop(['Property_Rural', 'Property_Semiurban', 'Property_Urban'], axis = 1)"
   ]
  },
  {
   "cell_type": "code",
   "execution_count": 50,
   "id": "7740d097",
   "metadata": {
    "scrolled": true
   },
   "outputs": [
    {
     "data": {
      "text/html": [
       "<div>\n",
       "<style scoped>\n",
       "    .dataframe tbody tr th:only-of-type {\n",
       "        vertical-align: middle;\n",
       "    }\n",
       "\n",
       "    .dataframe tbody tr th {\n",
       "        vertical-align: top;\n",
       "    }\n",
       "\n",
       "    .dataframe thead th {\n",
       "        text-align: right;\n",
       "    }\n",
       "</style>\n",
       "<table border=\"1\" class=\"dataframe\">\n",
       "  <thead>\n",
       "    <tr style=\"text-align: right;\">\n",
       "      <th></th>\n",
       "      <th>Gender</th>\n",
       "      <th>Married</th>\n",
       "      <th>Dependents</th>\n",
       "      <th>Education</th>\n",
       "      <th>Self_Employed</th>\n",
       "      <th>LoanAmount</th>\n",
       "      <th>Loan_Amount_Term</th>\n",
       "      <th>Credit_History</th>\n",
       "      <th>Property_Semiurban</th>\n",
       "      <th>Property_Rural</th>\n",
       "      <th>Property_Urban</th>\n",
       "      <th>TotalIncome</th>\n",
       "      <th>Loan_Status</th>\n",
       "    </tr>\n",
       "  </thead>\n",
       "  <tbody>\n",
       "    <tr>\n",
       "      <th>172</th>\n",
       "      <td>0</td>\n",
       "      <td>0</td>\n",
       "      <td>3</td>\n",
       "      <td>1</td>\n",
       "      <td>1</td>\n",
       "      <td>81.0</td>\n",
       "      <td>180.0</td>\n",
       "      <td>1.0</td>\n",
       "      <td>1.0</td>\n",
       "      <td>0.0</td>\n",
       "      <td>0.0</td>\n",
       "      <td>3522.0</td>\n",
       "      <td>N</td>\n",
       "    </tr>\n",
       "    <tr>\n",
       "      <th>546</th>\n",
       "      <td>0</td>\n",
       "      <td>1</td>\n",
       "      <td>0</td>\n",
       "      <td>1</td>\n",
       "      <td>1</td>\n",
       "      <td>80.0</td>\n",
       "      <td>36.0</td>\n",
       "      <td>1.0</td>\n",
       "      <td>0.0</td>\n",
       "      <td>1.0</td>\n",
       "      <td>0.0</td>\n",
       "      <td>3358.0</td>\n",
       "      <td>N</td>\n",
       "    </tr>\n",
       "    <tr>\n",
       "      <th>431</th>\n",
       "      <td>0</td>\n",
       "      <td>1</td>\n",
       "      <td>0</td>\n",
       "      <td>0</td>\n",
       "      <td>1</td>\n",
       "      <td>105.0</td>\n",
       "      <td>360.0</td>\n",
       "      <td>0.0</td>\n",
       "      <td>1.0</td>\n",
       "      <td>0.0</td>\n",
       "      <td>0.0</td>\n",
       "      <td>6500.0</td>\n",
       "      <td>N</td>\n",
       "    </tr>\n",
       "    <tr>\n",
       "      <th>241</th>\n",
       "      <td>0</td>\n",
       "      <td>0</td>\n",
       "      <td>1</td>\n",
       "      <td>1</td>\n",
       "      <td>1</td>\n",
       "      <td>140.0</td>\n",
       "      <td>180.0</td>\n",
       "      <td>1.0</td>\n",
       "      <td>0.0</td>\n",
       "      <td>0.0</td>\n",
       "      <td>1.0</td>\n",
       "      <td>4493.0</td>\n",
       "      <td>N</td>\n",
       "    </tr>\n",
       "    <tr>\n",
       "      <th>596</th>\n",
       "      <td>0</td>\n",
       "      <td>0</td>\n",
       "      <td>2</td>\n",
       "      <td>1</td>\n",
       "      <td>0</td>\n",
       "      <td>187.0</td>\n",
       "      <td>360.0</td>\n",
       "      <td>1.0</td>\n",
       "      <td>1.0</td>\n",
       "      <td>0.0</td>\n",
       "      <td>0.0</td>\n",
       "      <td>7383.0</td>\n",
       "      <td>N</td>\n",
       "    </tr>\n",
       "    <tr>\n",
       "      <th>...</th>\n",
       "      <td>...</td>\n",
       "      <td>...</td>\n",
       "      <td>...</td>\n",
       "      <td>...</td>\n",
       "      <td>...</td>\n",
       "      <td>...</td>\n",
       "      <td>...</td>\n",
       "      <td>...</td>\n",
       "      <td>...</td>\n",
       "      <td>...</td>\n",
       "      <td>...</td>\n",
       "      <td>...</td>\n",
       "      <td>...</td>\n",
       "    </tr>\n",
       "    <tr>\n",
       "      <th>138</th>\n",
       "      <td>0</td>\n",
       "      <td>1</td>\n",
       "      <td>0</td>\n",
       "      <td>0</td>\n",
       "      <td>1</td>\n",
       "      <td>242.0</td>\n",
       "      <td>360.0</td>\n",
       "      <td>0.0</td>\n",
       "      <td>0.0</td>\n",
       "      <td>1.0</td>\n",
       "      <td>0.0</td>\n",
       "      <td>14999.0</td>\n",
       "      <td>N</td>\n",
       "    </tr>\n",
       "    <tr>\n",
       "      <th>576</th>\n",
       "      <td>0</td>\n",
       "      <td>0</td>\n",
       "      <td>0</td>\n",
       "      <td>0</td>\n",
       "      <td>1</td>\n",
       "      <td>136.0</td>\n",
       "      <td>360.0</td>\n",
       "      <td>0.0</td>\n",
       "      <td>0.0</td>\n",
       "      <td>1.0</td>\n",
       "      <td>0.0</td>\n",
       "      <td>5297.0</td>\n",
       "      <td>N</td>\n",
       "    </tr>\n",
       "    <tr>\n",
       "      <th>245</th>\n",
       "      <td>0</td>\n",
       "      <td>1</td>\n",
       "      <td>0</td>\n",
       "      <td>0</td>\n",
       "      <td>0</td>\n",
       "      <td>120.0</td>\n",
       "      <td>180.0</td>\n",
       "      <td>1.0</td>\n",
       "      <td>0.0</td>\n",
       "      <td>0.0</td>\n",
       "      <td>1.0</td>\n",
       "      <td>10383.0</td>\n",
       "      <td>N</td>\n",
       "    </tr>\n",
       "    <tr>\n",
       "      <th>174</th>\n",
       "      <td>0</td>\n",
       "      <td>0</td>\n",
       "      <td>0</td>\n",
       "      <td>1</td>\n",
       "      <td>0</td>\n",
       "      <td>87.0</td>\n",
       "      <td>360.0</td>\n",
       "      <td>1.0</td>\n",
       "      <td>0.0</td>\n",
       "      <td>1.0</td>\n",
       "      <td>0.0</td>\n",
       "      <td>5080.0</td>\n",
       "      <td>N</td>\n",
       "    </tr>\n",
       "    <tr>\n",
       "      <th>298</th>\n",
       "      <td>1</td>\n",
       "      <td>1</td>\n",
       "      <td>0</td>\n",
       "      <td>0</td>\n",
       "      <td>1</td>\n",
       "      <td>151.0</td>\n",
       "      <td>480.0</td>\n",
       "      <td>1.0</td>\n",
       "      <td>1.0</td>\n",
       "      <td>0.0</td>\n",
       "      <td>0.0</td>\n",
       "      <td>7541.0</td>\n",
       "      <td>N</td>\n",
       "    </tr>\n",
       "  </tbody>\n",
       "</table>\n",
       "<p>149 rows × 13 columns</p>\n",
       "</div>"
      ],
      "text/plain": [
       "     Gender  Married  Dependents  Education  Self_Employed  LoanAmount  \\\n",
       "172       0        0           3          1              1        81.0   \n",
       "546       0        1           0          1              1        80.0   \n",
       "431       0        1           0          0              1       105.0   \n",
       "241       0        0           1          1              1       140.0   \n",
       "596       0        0           2          1              0       187.0   \n",
       "..      ...      ...         ...        ...            ...         ...   \n",
       "138       0        1           0          0              1       242.0   \n",
       "576       0        0           0          0              1       136.0   \n",
       "245       0        1           0          0              0       120.0   \n",
       "174       0        0           0          1              0        87.0   \n",
       "298       1        1           0          0              1       151.0   \n",
       "\n",
       "     Loan_Amount_Term  Credit_History  Property_Semiurban  Property_Rural  \\\n",
       "172             180.0             1.0                 1.0             0.0   \n",
       "546              36.0             1.0                 0.0             1.0   \n",
       "431             360.0             0.0                 1.0             0.0   \n",
       "241             180.0             1.0                 0.0             0.0   \n",
       "596             360.0             1.0                 1.0             0.0   \n",
       "..                ...             ...                 ...             ...   \n",
       "138             360.0             0.0                 0.0             1.0   \n",
       "576             360.0             0.0                 0.0             1.0   \n",
       "245             180.0             1.0                 0.0             0.0   \n",
       "174             360.0             1.0                 0.0             1.0   \n",
       "298             480.0             1.0                 1.0             0.0   \n",
       "\n",
       "     Property_Urban  TotalIncome Loan_Status  \n",
       "172             0.0       3522.0           N  \n",
       "546             0.0       3358.0           N  \n",
       "431             0.0       6500.0           N  \n",
       "241             1.0       4493.0           N  \n",
       "596             0.0       7383.0           N  \n",
       "..              ...          ...         ...  \n",
       "138             0.0      14999.0           N  \n",
       "576             0.0       5297.0           N  \n",
       "245             1.0      10383.0           N  \n",
       "174             0.0       5080.0           N  \n",
       "298             0.0       7541.0           N  \n",
       "\n",
       "[149 rows x 13 columns]"
      ]
     },
     "execution_count": 50,
     "metadata": {},
     "output_type": "execute_result"
    }
   ],
   "source": [
    "X_train.join(y_train)[X_train.join(y_train)['Loan_Status'] == 'N']"
   ]
  },
  {
   "cell_type": "code",
   "execution_count": 51,
   "id": "06052b89",
   "metadata": {},
   "outputs": [],
   "source": [
    "# X_test.to_csv('test.csv')"
   ]
  },
  {
   "cell_type": "markdown",
   "id": "6b79d7b6",
   "metadata": {},
   "source": [
    "# SMOT Technique\n",
    "- To deal with imbalance dataset"
   ]
  },
  {
   "cell_type": "code",
   "execution_count": 52,
   "id": "73dceedb",
   "metadata": {},
   "outputs": [],
   "source": [
    "from imblearn.over_sampling import SMOTE\n",
    "smote = SMOTE()\n",
    "X_train, y_train = smote.fit_resample(X_train, y_train)"
   ]
  },
  {
   "cell_type": "code",
   "execution_count": 53,
   "id": "f2657cb5",
   "metadata": {
    "scrolled": true
   },
   "outputs": [
    {
     "data": {
      "text/html": [
       "<div>\n",
       "<style scoped>\n",
       "    .dataframe tbody tr th:only-of-type {\n",
       "        vertical-align: middle;\n",
       "    }\n",
       "\n",
       "    .dataframe tbody tr th {\n",
       "        vertical-align: top;\n",
       "    }\n",
       "\n",
       "    .dataframe thead th {\n",
       "        text-align: right;\n",
       "    }\n",
       "</style>\n",
       "<table border=\"1\" class=\"dataframe\">\n",
       "  <thead>\n",
       "    <tr style=\"text-align: right;\">\n",
       "      <th></th>\n",
       "      <th>Gender</th>\n",
       "      <th>Married</th>\n",
       "      <th>Dependents</th>\n",
       "      <th>Education</th>\n",
       "      <th>Self_Employed</th>\n",
       "      <th>LoanAmount</th>\n",
       "      <th>Loan_Amount_Term</th>\n",
       "      <th>Credit_History</th>\n",
       "      <th>Property_Semiurban</th>\n",
       "      <th>Property_Rural</th>\n",
       "      <th>Property_Urban</th>\n",
       "      <th>TotalIncome</th>\n",
       "    </tr>\n",
       "  </thead>\n",
       "  <tbody>\n",
       "    <tr>\n",
       "      <th>0</th>\n",
       "      <td>0</td>\n",
       "      <td>0</td>\n",
       "      <td>3</td>\n",
       "      <td>1</td>\n",
       "      <td>1</td>\n",
       "      <td>81.0</td>\n",
       "      <td>180.0</td>\n",
       "      <td>1.0</td>\n",
       "      <td>1.0</td>\n",
       "      <td>0.0</td>\n",
       "      <td>0.0</td>\n",
       "      <td>3522.0</td>\n",
       "    </tr>\n",
       "    <tr>\n",
       "      <th>1</th>\n",
       "      <td>0</td>\n",
       "      <td>1</td>\n",
       "      <td>2</td>\n",
       "      <td>0</td>\n",
       "      <td>1</td>\n",
       "      <td>162.0</td>\n",
       "      <td>360.0</td>\n",
       "      <td>1.0</td>\n",
       "      <td>1.0</td>\n",
       "      <td>0.0</td>\n",
       "      <td>0.0</td>\n",
       "      <td>10180.0</td>\n",
       "    </tr>\n",
       "    <tr>\n",
       "      <th>2</th>\n",
       "      <td>0</td>\n",
       "      <td>0</td>\n",
       "      <td>0</td>\n",
       "      <td>0</td>\n",
       "      <td>1</td>\n",
       "      <td>150.0</td>\n",
       "      <td>360.0</td>\n",
       "      <td>1.0</td>\n",
       "      <td>0.0</td>\n",
       "      <td>1.0</td>\n",
       "      <td>0.0</td>\n",
       "      <td>4843.0</td>\n",
       "    </tr>\n",
       "    <tr>\n",
       "      <th>3</th>\n",
       "      <td>0</td>\n",
       "      <td>0</td>\n",
       "      <td>0</td>\n",
       "      <td>0</td>\n",
       "      <td>0</td>\n",
       "      <td>191.0</td>\n",
       "      <td>360.0</td>\n",
       "      <td>1.0</td>\n",
       "      <td>0.0</td>\n",
       "      <td>1.0</td>\n",
       "      <td>0.0</td>\n",
       "      <td>9560.0</td>\n",
       "    </tr>\n",
       "    <tr>\n",
       "      <th>4</th>\n",
       "      <td>0</td>\n",
       "      <td>0</td>\n",
       "      <td>0</td>\n",
       "      <td>0</td>\n",
       "      <td>1</td>\n",
       "      <td>160.0</td>\n",
       "      <td>360.0</td>\n",
       "      <td>1.0</td>\n",
       "      <td>0.0</td>\n",
       "      <td>0.0</td>\n",
       "      <td>1.0</td>\n",
       "      <td>6256.0</td>\n",
       "    </tr>\n",
       "  </tbody>\n",
       "</table>\n",
       "</div>"
      ],
      "text/plain": [
       "   Gender  Married  Dependents  Education  Self_Employed  LoanAmount  \\\n",
       "0       0        0           3          1              1        81.0   \n",
       "1       0        1           2          0              1       162.0   \n",
       "2       0        0           0          0              1       150.0   \n",
       "3       0        0           0          0              0       191.0   \n",
       "4       0        0           0          0              1       160.0   \n",
       "\n",
       "   Loan_Amount_Term  Credit_History  Property_Semiurban  Property_Rural  \\\n",
       "0             180.0             1.0                 1.0             0.0   \n",
       "1             360.0             1.0                 1.0             0.0   \n",
       "2             360.0             1.0                 0.0             1.0   \n",
       "3             360.0             1.0                 0.0             1.0   \n",
       "4             360.0             1.0                 0.0             0.0   \n",
       "\n",
       "   Property_Urban  TotalIncome  \n",
       "0             0.0       3522.0  \n",
       "1             0.0      10180.0  \n",
       "2             0.0       4843.0  \n",
       "3             0.0       9560.0  \n",
       "4             1.0       6256.0  "
      ]
     },
     "execution_count": 53,
     "metadata": {},
     "output_type": "execute_result"
    }
   ],
   "source": [
    "X_train.head()"
   ]
  },
  {
   "cell_type": "markdown",
   "id": "bb01c9aa",
   "metadata": {},
   "source": [
    "## Outlier"
   ]
  },
  {
   "cell_type": "code",
   "execution_count": 54,
   "id": "6fd08851",
   "metadata": {
    "scrolled": true
   },
   "outputs": [
    {
     "data": {
      "text/plain": [
       "<AxesSubplot:xlabel='TotalIncome', ylabel='Count'>"
      ]
     },
     "execution_count": 54,
     "metadata": {},
     "output_type": "execute_result"
    },
    {
     "data": {
      "image/png": "[encoded data removed]",
      "text/plain": [
       "<Figure size 432x288 with 1 Axes>"
      ]
     },
     "metadata": {
      "needs_background": "light"
     },
     "output_type": "display_data"
    }
   ],
   "source": [
    "sns.histplot(X_train['TotalIncome'], kde = True)"
   ]
  },
  {
   "cell_type": "code",
   "execution_count": 55,
   "id": "f9dfb2a7",
   "metadata": {},
   "outputs": [],
   "source": [
    "X_train['LoanAmount'] = np.log(X_train['LoanAmount'])\n",
    "X_test['LoanAmount'] = np.log(X_test['LoanAmount'])"
   ]
  },
  {
   "cell_type": "code",
   "execution_count": 56,
   "id": "01b00140",
   "metadata": {},
   "outputs": [],
   "source": [
    "X_train['TotalIncome'] = np.log(X_train['TotalIncome'])\n",
    "X_test['TotalIncome'] = np.log(X_test['TotalIncome'])"
   ]
  },
  {
   "cell_type": "code",
   "execution_count": 57,
   "id": "0ac9ac91",
   "metadata": {},
   "outputs": [],
   "source": [
    "X_test.to_csv('test.csv')"
   ]
  },
  {
   "cell_type": "markdown",
   "id": "5ced8077",
   "metadata": {},
   "source": [
    "## Standardization"
   ]
  },
  {
   "cell_type": "code",
   "execution_count": 58,
   "id": "945705bd",
   "metadata": {},
   "outputs": [],
   "source": [
    "from sklearn.preprocessing import StandardScaler"
   ]
  },
  {
   "cell_type": "code",
   "execution_count": 59,
   "id": "2f46d4f8",
   "metadata": {},
   "outputs": [],
   "source": [
    "# std = StandardScaler()\n",
    "\n",
    "# clm = X_train.columns\n",
    "\n",
    "# X_train_std = pd.DataFrame(std.fit_transform(X_train), columns=clm)\n",
    "# X_train_std.index = X_train.index\n",
    "# X_train = X_train_std\n",
    "\n",
    "# X_test_std = pd.DataFrame(std.transform(X_test), columns=clm)\n",
    "# X_test_std.index = X_test.index\n",
    "# X_test = X_test_std"
   ]
  },
  {
   "cell_type": "markdown",
   "id": "6d3fb2f5",
   "metadata": {},
   "source": [
    "# Model"
   ]
  },
  {
   "cell_type": "code",
   "execution_count": 60,
   "id": "1a26aa34",
   "metadata": {},
   "outputs": [],
   "source": [
    "from sklearn.linear_model import LogisticRegression\n",
    "from sklearn.metrics import classification_report, confusion_matrix\n",
    "from sklearn.metrics import accuracy_score"
   ]
  },
  {
   "cell_type": "code",
   "execution_count": 61,
   "id": "169c0567",
   "metadata": {},
   "outputs": [],
   "source": [
    "# model = LogisticRegression(random_state = 18)\n",
    "# model.fit(X_train, y_train)\n",
    "\n",
    "# pred = model.predict(X_test)"
   ]
  },
  {
   "cell_type": "code",
   "execution_count": 62,
   "id": "fda9a4d0",
   "metadata": {
    "scrolled": true
   },
   "outputs": [],
   "source": [
    "# print(confusion_matrix(y_test, pred))\n",
    "# print(classification_report(y_test, pred))"
   ]
  },
  {
   "cell_type": "markdown",
   "id": "961037ce",
   "metadata": {},
   "source": [
    "### First Model without outlier and without std\n",
    "- [[18 25]\n",
    "- [ 2 78]]\n",
    "              precision    recall  f1-score   support\n",
    "\n",
    "           N       0.90      0.42      0.57        43\n",
    "           Y       0.76      0.97      0.85        80\n",
    "\n",
    "- accuracy                           0.78       123\n",
    "- macro avg       0.83      0.70      0.71       123\n",
    "- weighted avg       0.81      0.78      0.75       123\n",
    "- accuracy_score = **0.7804878048780488**\n",
    "\n",
    "### With Standardization and After Handling Outliers\n",
    "- Still get the same result, thats why I am not using Standardization and Outliers \n",
    "- accuracy_score = **0.7804878048780488**\n",
    "\n",
    "### With SMOT\n",
    "- [[22 21]\n",
    "- [ 5 75]]\n",
    "              precision    recall  f1-score   support\n",
    "\n",
    "           N       0.81      0.51      0.63        43\n",
    "           Y       0.78      0.94      0.85        80\n",
    "\n",
    "- accuracy                           0.79       123\n",
    "- macro avg       0.80      0.72      0.74       123\n",
    "- weighted avg       0.79      0.79      0.77       123\n",
    "\n",
    "\n",
    "- accuracy_score = **0.7886178861788617**"
   ]
  },
  {
   "cell_type": "markdown",
   "id": "b07a7bb2",
   "metadata": {},
   "source": [
    "# Pipeline"
   ]
  },
  {
   "cell_type": "code",
   "execution_count": 63,
   "id": "e8b62555",
   "metadata": {},
   "outputs": [],
   "source": [
    "from sklearn.preprocessing import StandardScaler\n",
    "from sklearn.pipeline import Pipeline\n",
    "\n",
    "pipe = Pipeline([('st', StandardScaler()), ('mod', LogisticRegression(random_state=18))])"
   ]
  },
  {
   "cell_type": "code",
   "execution_count": 64,
   "id": "05c70153",
   "metadata": {
    "scrolled": true
   },
   "outputs": [
    {
     "name": "stdout",
     "output_type": "stream",
     "text": [
      "0.7804878048780488\n"
     ]
    },
    {
     "name": "stderr",
     "output_type": "stream",
     "text": [
      "/home/sahil/anaconda3/lib/python3.9/site-packages/sklearn/base.py:493: FutureWarning: The feature names should match those that were passed during fit. Starting version 1.2, an error will be raised.\n",
      "Feature names must be in the same order as they were in fit.\n",
      "\n",
      "  warnings.warn(message, FutureWarning)\n"
     ]
    }
   ],
   "source": [
    "pipe.fit(X_train, y_train)\n",
    "pred = pipe.predict(X_test)\n",
    "print(accuracy_score(y_test, pred))"
   ]
  },
  {
   "cell_type": "markdown",
   "id": "45eb4254",
   "metadata": {},
   "source": [
    "## With Pipeline\n",
    "- accuracy_score: 0.7967479674796748"
   ]
  },
  {
   "cell_type": "code",
   "execution_count": 65,
   "id": "2ad0bfdd",
   "metadata": {
    "scrolled": false
   },
   "outputs": [
    {
     "name": "stdout",
     "output_type": "stream",
     "text": [
      "[[19 24]\n",
      " [ 3 77]]\n",
      "              precision    recall  f1-score   support\n",
      "\n",
      "           N       0.86      0.44      0.58        43\n",
      "           Y       0.76      0.96      0.85        80\n",
      "\n",
      "    accuracy                           0.78       123\n",
      "   macro avg       0.81      0.70      0.72       123\n",
      "weighted avg       0.80      0.78      0.76       123\n",
      "\n"
     ]
    }
   ],
   "source": [
    "print(confusion_matrix(y_test, pred))\n",
    "print(classification_report(y_test, pred))"
   ]
  },
  {
   "cell_type": "code",
   "execution_count": 66,
   "id": "b7747405",
   "metadata": {
    "scrolled": true
   },
   "outputs": [
    {
     "data": {
      "text/html": [
       "<div>\n",
       "<style scoped>\n",
       "    .dataframe tbody tr th:only-of-type {\n",
       "        vertical-align: middle;\n",
       "    }\n",
       "\n",
       "    .dataframe tbody tr th {\n",
       "        vertical-align: top;\n",
       "    }\n",
       "\n",
       "    .dataframe thead th {\n",
       "        text-align: right;\n",
       "    }\n",
       "</style>\n",
       "<table border=\"1\" class=\"dataframe\">\n",
       "  <thead>\n",
       "    <tr style=\"text-align: right;\">\n",
       "      <th></th>\n",
       "      <th>Gender</th>\n",
       "      <th>Married</th>\n",
       "      <th>Dependents</th>\n",
       "      <th>Education</th>\n",
       "      <th>Self_Employed</th>\n",
       "      <th>LoanAmount</th>\n",
       "      <th>Loan_Amount_Term</th>\n",
       "      <th>Credit_History</th>\n",
       "      <th>Property_Semiurban</th>\n",
       "      <th>Property_Rural</th>\n",
       "      <th>Property_Urban</th>\n",
       "      <th>TotalIncome</th>\n",
       "      <th>Loan_Status</th>\n",
       "    </tr>\n",
       "  </thead>\n",
       "  <tbody>\n",
       "    <tr>\n",
       "      <th>0</th>\n",
       "      <td>0</td>\n",
       "      <td>0</td>\n",
       "      <td>3</td>\n",
       "      <td>1</td>\n",
       "      <td>1</td>\n",
       "      <td>4.394449</td>\n",
       "      <td>180.0</td>\n",
       "      <td>1.0</td>\n",
       "      <td>1.0</td>\n",
       "      <td>0.0</td>\n",
       "      <td>0.0</td>\n",
       "      <td>8.166784</td>\n",
       "      <td>N</td>\n",
       "    </tr>\n",
       "    <tr>\n",
       "      <th>1</th>\n",
       "      <td>0</td>\n",
       "      <td>1</td>\n",
       "      <td>2</td>\n",
       "      <td>0</td>\n",
       "      <td>1</td>\n",
       "      <td>5.087596</td>\n",
       "      <td>360.0</td>\n",
       "      <td>1.0</td>\n",
       "      <td>1.0</td>\n",
       "      <td>0.0</td>\n",
       "      <td>0.0</td>\n",
       "      <td>9.228180</td>\n",
       "      <td>Y</td>\n",
       "    </tr>\n",
       "    <tr>\n",
       "      <th>2</th>\n",
       "      <td>0</td>\n",
       "      <td>0</td>\n",
       "      <td>0</td>\n",
       "      <td>0</td>\n",
       "      <td>1</td>\n",
       "      <td>5.010635</td>\n",
       "      <td>360.0</td>\n",
       "      <td>1.0</td>\n",
       "      <td>0.0</td>\n",
       "      <td>1.0</td>\n",
       "      <td>0.0</td>\n",
       "      <td>8.485290</td>\n",
       "      <td>Y</td>\n",
       "    </tr>\n",
       "    <tr>\n",
       "      <th>3</th>\n",
       "      <td>0</td>\n",
       "      <td>0</td>\n",
       "      <td>0</td>\n",
       "      <td>0</td>\n",
       "      <td>0</td>\n",
       "      <td>5.252273</td>\n",
       "      <td>360.0</td>\n",
       "      <td>1.0</td>\n",
       "      <td>0.0</td>\n",
       "      <td>1.0</td>\n",
       "      <td>0.0</td>\n",
       "      <td>9.165343</td>\n",
       "      <td>Y</td>\n",
       "    </tr>\n",
       "    <tr>\n",
       "      <th>4</th>\n",
       "      <td>0</td>\n",
       "      <td>0</td>\n",
       "      <td>0</td>\n",
       "      <td>0</td>\n",
       "      <td>1</td>\n",
       "      <td>5.075174</td>\n",
       "      <td>360.0</td>\n",
       "      <td>1.0</td>\n",
       "      <td>0.0</td>\n",
       "      <td>0.0</td>\n",
       "      <td>1.0</td>\n",
       "      <td>8.741296</td>\n",
       "      <td>Y</td>\n",
       "    </tr>\n",
       "  </tbody>\n",
       "</table>\n",
       "</div>"
      ],
      "text/plain": [
       "   Gender  Married  Dependents  Education  Self_Employed  LoanAmount  \\\n",
       "0       0        0           3          1              1    4.394449   \n",
       "1       0        1           2          0              1    5.087596   \n",
       "2       0        0           0          0              1    5.010635   \n",
       "3       0        0           0          0              0    5.252273   \n",
       "4       0        0           0          0              1    5.075174   \n",
       "\n",
       "   Loan_Amount_Term  Credit_History  Property_Semiurban  Property_Rural  \\\n",
       "0             180.0             1.0                 1.0             0.0   \n",
       "1             360.0             1.0                 1.0             0.0   \n",
       "2             360.0             1.0                 0.0             1.0   \n",
       "3             360.0             1.0                 0.0             1.0   \n",
       "4             360.0             1.0                 0.0             0.0   \n",
       "\n",
       "   Property_Urban  TotalIncome Loan_Status  \n",
       "0             0.0     8.166784           N  \n",
       "1             0.0     9.228180           Y  \n",
       "2             0.0     8.485290           Y  \n",
       "3             0.0     9.165343           Y  \n",
       "4             1.0     8.741296           Y  "
      ]
     },
     "execution_count": 66,
     "metadata": {},
     "output_type": "execute_result"
    }
   ],
   "source": [
    "X_train.join(y_train).head()"
   ]
  },
  {
   "cell_type": "markdown",
   "id": "ea5924c2",
   "metadata": {},
   "source": [
    "## SVM"
   ]
  },
  {
   "cell_type": "code",
   "execution_count": 67,
   "id": "9dc4f67a",
   "metadata": {},
   "outputs": [],
   "source": [
    "# from sklearn.svm import SVC\n",
    "# svc = SVC(kernel = 'poly')\n",
    "# svc.fit(X_train, y_train)\n",
    "# pred = svc.predict(X_test)"
   ]
  },
  {
   "cell_type": "code",
   "execution_count": 68,
   "id": "4b1664b6",
   "metadata": {
    "scrolled": true
   },
   "outputs": [],
   "source": [
    "# print(confusion_matrix(y_test, pred))\n",
    "# print(classification_report(y_test, pred))\n",
    "# print(accuracy_score(y_test, pred))"
   ]
  },
  {
   "cell_type": "markdown",
   "id": "1a6598ab",
   "metadata": {},
   "source": [
    "#### accuracy score: **0.7317073170731707**"
   ]
  },
  {
   "cell_type": "code",
   "execution_count": 69,
   "id": "fccb9dcd",
   "metadata": {},
   "outputs": [],
   "source": [
    "# y_test.to_csv('y_test.csv')"
   ]
  },
  {
   "cell_type": "markdown",
   "id": "bb1cfa86",
   "metadata": {},
   "source": [
    "# Saving Model using 'Pickle'"
   ]
  },
  {
   "cell_type": "code",
   "execution_count": 70,
   "id": "d239463a",
   "metadata": {},
   "outputs": [],
   "source": [
    "# pickle.dump(model, open('model.pkl', 'wb'))"
   ]
  },
  {
   "cell_type": "markdown",
   "id": "21fedaee",
   "metadata": {},
   "source": [
    "# Saving Model using 'Joblib'"
   ]
  },
  {
   "cell_type": "code",
   "execution_count": 71,
   "id": "17dad835",
   "metadata": {},
   "outputs": [],
   "source": [
    "# import joblib\n",
    "# joblib.dump(pipe, 'pipe_model.pkl')"
   ]
  },
  {
   "cell_type": "markdown",
   "id": "3c0f34a1",
   "metadata": {},
   "source": [
    "## Feature Importance"
   ]
  },
  {
   "cell_type": "code",
   "execution_count": 72,
   "id": "698e4730",
   "metadata": {
    "scrolled": true
   },
   "outputs": [
    {
     "name": "stdout",
     "output_type": "stream",
     "text": [
      "[0.01772088 0.02580559 0.04673573 0.02183345 0.01829172 0.14887514\n",
      " 0.04919367 0.29925431 0.07341538 0.0638076  0.06248839 0.17257813]\n"
     ]
    },
    {
     "data": {
      "image/png": "[encoded data removed]",
      "text/plain": [
       "<Figure size 432x288 with 1 Axes>"
      ]
     },
     "metadata": {
      "needs_background": "light"
     },
     "output_type": "display_data"
    }
   ],
   "source": [
    "from sklearn.ensemble import ExtraTreesClassifier\n",
    "model = ExtraTreesClassifier()\n",
    "model.fit(X_train,y_train)\n",
    "print(model.feature_importances_)\n",
    "feat_importances = pd.Series(model.feature_importances_, index=X_train.columns)\n",
    "feat_importances.nlargest(10).plot(kind='barh')\n",
    "plt.show()"
   ]
  },
  {
   "cell_type": "code",
   "execution_count": null,
   "id": "fad63bfe",
   "metadata": {},
   "outputs": [],
   "source": []
  },
  {
   "cell_type": "code",
   "execution_count": null,
   "id": "54657d68",
   "metadata": {},
   "outputs": [],
   "source": []
  },
  {
   "cell_type": "code",
   "execution_count": null,
   "id": "45f301db",
   "metadata": {},
   "outputs": [],
   "source": []
  },
  {
   "cell_type": "code",
   "execution_count": null,
   "id": "cab57476",
   "metadata": {},
   "outputs": [],
   "source": []
  },
  {
   "cell_type": "code",
   "execution_count": null,
   "id": "686cfdb4",
   "metadata": {},
   "outputs": [],
   "source": []
  },
  {
   "cell_type": "code",
   "execution_count": null,
   "id": "1a84afd8",
   "metadata": {},
   "outputs": [],
   "source": []
  }
 ],
 "metadata": {
  "kernelspec": {
   "display_name": "Python 3 (ipykernel)",
   "language": "python",
   "name": "python3"
  },
  "language_info": {
   "codemirror_mode": {
    "name": "ipython",
    "version": 3
   },
   "file_extension": ".py",
   "mimetype": "text/x-python",
   "name": "python",
   "nbconvert_exporter": "python",
   "pygments_lexer": "ipython3",
   "version": "3.9.7"
  }
 },
 "nbformat": 4,
 "nbformat_minor": 5
}
