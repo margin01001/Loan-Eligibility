{
 "cells": [
  {
   "cell_type": "code",
   "execution_count": 3,
   "id": "1f97f28a",
   "metadata": {},
   "outputs": [],
   "source": [
    "import pandas as pd\n",
    "import seaborn as sns\n",
    "import matplotlib.pyplot as plt"
   ]
  },
  {
   "cell_type": "code",
   "execution_count": 4,
   "id": "f466d75d",
   "metadata": {},
   "outputs": [],
   "source": [
    "df = pd.read_csv(\"./Data/loan_data_set.csv\")"
   ]
  },
  {
   "cell_type": "code",
   "execution_count": 5,
   "id": "a3136a1a",
   "metadata": {
    "scrolled": false
   },
   "outputs": [
    {
     "data": {
      "text/html": [
       "<div>\n",
       "<style scoped>\n",
       "    .dataframe tbody tr th:only-of-type {\n",
       "        vertical-align: middle;\n",
       "    }\n",
       "\n",
       "    .dataframe tbody tr th {\n",
       "        vertical-align: top;\n",
       "    }\n",
       "\n",
       "    .dataframe thead th {\n",
       "        text-align: right;\n",
       "    }\n",
       "</style>\n",
       "<table border=\"1\" class=\"dataframe\">\n",
       "  <thead>\n",
       "    <tr style=\"text-align: right;\">\n",
       "      <th></th>\n",
       "      <th>Loan_ID</th>\n",
       "      <th>Gender</th>\n",
       "      <th>Married</th>\n",
       "      <th>Dependents</th>\n",
       "      <th>Education</th>\n",
       "      <th>Self_Employed</th>\n",
       "      <th>ApplicantIncome</th>\n",
       "      <th>CoapplicantIncome</th>\n",
       "      <th>LoanAmount</th>\n",
       "      <th>Loan_Amount_Term</th>\n",
       "      <th>Credit_History</th>\n",
       "      <th>Property_Area</th>\n",
       "      <th>Loan_Status</th>\n",
       "    </tr>\n",
       "  </thead>\n",
       "  <tbody>\n",
       "    <tr>\n",
       "      <th>0</th>\n",
       "      <td>LP001002</td>\n",
       "      <td>Male</td>\n",
       "      <td>No</td>\n",
       "      <td>0</td>\n",
       "      <td>Graduate</td>\n",
       "      <td>No</td>\n",
       "      <td>5849</td>\n",
       "      <td>0.0</td>\n",
       "      <td>NaN</td>\n",
       "      <td>360.0</td>\n",
       "      <td>1.0</td>\n",
       "      <td>Urban</td>\n",
       "      <td>Y</td>\n",
       "    </tr>\n",
       "    <tr>\n",
       "      <th>1</th>\n",
       "      <td>LP001003</td>\n",
       "      <td>Male</td>\n",
       "      <td>Yes</td>\n",
       "      <td>1</td>\n",
       "      <td>Graduate</td>\n",
       "      <td>No</td>\n",
       "      <td>4583</td>\n",
       "      <td>1508.0</td>\n",
       "      <td>128.0</td>\n",
       "      <td>360.0</td>\n",
       "      <td>1.0</td>\n",
       "      <td>Rural</td>\n",
       "      <td>N</td>\n",
       "    </tr>\n",
       "    <tr>\n",
       "      <th>2</th>\n",
       "      <td>LP001005</td>\n",
       "      <td>Male</td>\n",
       "      <td>Yes</td>\n",
       "      <td>0</td>\n",
       "      <td>Graduate</td>\n",
       "      <td>Yes</td>\n",
       "      <td>3000</td>\n",
       "      <td>0.0</td>\n",
       "      <td>66.0</td>\n",
       "      <td>360.0</td>\n",
       "      <td>1.0</td>\n",
       "      <td>Urban</td>\n",
       "      <td>Y</td>\n",
       "    </tr>\n",
       "    <tr>\n",
       "      <th>3</th>\n",
       "      <td>LP001006</td>\n",
       "      <td>Male</td>\n",
       "      <td>Yes</td>\n",
       "      <td>0</td>\n",
       "      <td>Not Graduate</td>\n",
       "      <td>No</td>\n",
       "      <td>2583</td>\n",
       "      <td>2358.0</td>\n",
       "      <td>120.0</td>\n",
       "      <td>360.0</td>\n",
       "      <td>1.0</td>\n",
       "      <td>Urban</td>\n",
       "      <td>Y</td>\n",
       "    </tr>\n",
       "    <tr>\n",
       "      <th>4</th>\n",
       "      <td>LP001008</td>\n",
       "      <td>Male</td>\n",
       "      <td>No</td>\n",
       "      <td>0</td>\n",
       "      <td>Graduate</td>\n",
       "      <td>No</td>\n",
       "      <td>6000</td>\n",
       "      <td>0.0</td>\n",
       "      <td>141.0</td>\n",
       "      <td>360.0</td>\n",
       "      <td>1.0</td>\n",
       "      <td>Urban</td>\n",
       "      <td>Y</td>\n",
       "    </tr>\n",
       "  </tbody>\n",
       "</table>\n",
       "</div>"
      ],
      "text/plain": [
       "    Loan_ID Gender Married Dependents     Education Self_Employed  \\\n",
       "0  LP001002   Male      No          0      Graduate            No   \n",
       "1  LP001003   Male     Yes          1      Graduate            No   \n",
       "2  LP001005   Male     Yes          0      Graduate           Yes   \n",
       "3  LP001006   Male     Yes          0  Not Graduate            No   \n",
       "4  LP001008   Male      No          0      Graduate            No   \n",
       "\n",
       "   ApplicantIncome  CoapplicantIncome  LoanAmount  Loan_Amount_Term  \\\n",
       "0             5849                0.0         NaN             360.0   \n",
       "1             4583             1508.0       128.0             360.0   \n",
       "2             3000                0.0        66.0             360.0   \n",
       "3             2583             2358.0       120.0             360.0   \n",
       "4             6000                0.0       141.0             360.0   \n",
       "\n",
       "   Credit_History Property_Area Loan_Status  \n",
       "0             1.0         Urban           Y  \n",
       "1             1.0         Rural           N  \n",
       "2             1.0         Urban           Y  \n",
       "3             1.0         Urban           Y  \n",
       "4             1.0         Urban           Y  "
      ]
     },
     "execution_count": 5,
     "metadata": {},
     "output_type": "execute_result"
    }
   ],
   "source": [
    "df.head()"
   ]
  },
  {
   "cell_type": "code",
   "execution_count": 6,
   "id": "9a79cf3c",
   "metadata": {},
   "outputs": [
    {
     "name": "stdout",
     "output_type": "stream",
     "text": [
      "<class 'pandas.core.frame.DataFrame'>\n",
      "RangeIndex: 614 entries, 0 to 613\n",
      "Data columns (total 13 columns):\n",
      " #   Column             Non-Null Count  Dtype  \n",
      "---  ------             --------------  -----  \n",
      " 0   Loan_ID            614 non-null    object \n",
      " 1   Gender             601 non-null    object \n",
      " 2   Married            611 non-null    object \n",
      " 3   Dependents         599 non-null    object \n",
      " 4   Education          614 non-null    object \n",
      " 5   Self_Employed      582 non-null    object \n",
      " 6   ApplicantIncome    614 non-null    int64  \n",
      " 7   CoapplicantIncome  614 non-null    float64\n",
      " 8   LoanAmount         592 non-null    float64\n",
      " 9   Loan_Amount_Term   600 non-null    float64\n",
      " 10  Credit_History     564 non-null    float64\n",
      " 11  Property_Area      614 non-null    object \n",
      " 12  Loan_Status        614 non-null    object \n",
      "dtypes: float64(4), int64(1), object(8)\n",
      "memory usage: 62.5+ KB\n"
     ]
    }
   ],
   "source": [
    "df.info()"
   ]
  },
  {
   "cell_type": "code",
   "execution_count": 7,
   "id": "73ace4e2",
   "metadata": {},
   "outputs": [
    {
     "data": {
      "text/html": [
       "<div>\n",
       "<style scoped>\n",
       "    .dataframe tbody tr th:only-of-type {\n",
       "        vertical-align: middle;\n",
       "    }\n",
       "\n",
       "    .dataframe tbody tr th {\n",
       "        vertical-align: top;\n",
       "    }\n",
       "\n",
       "    .dataframe thead th {\n",
       "        text-align: right;\n",
       "    }\n",
       "</style>\n",
       "<table border=\"1\" class=\"dataframe\">\n",
       "  <thead>\n",
       "    <tr style=\"text-align: right;\">\n",
       "      <th></th>\n",
       "      <th>ApplicantIncome</th>\n",
       "      <th>CoapplicantIncome</th>\n",
       "      <th>LoanAmount</th>\n",
       "      <th>Loan_Amount_Term</th>\n",
       "      <th>Credit_History</th>\n",
       "    </tr>\n",
       "  </thead>\n",
       "  <tbody>\n",
       "    <tr>\n",
       "      <th>count</th>\n",
       "      <td>614.000000</td>\n",
       "      <td>614.000000</td>\n",
       "      <td>592.000000</td>\n",
       "      <td>600.00000</td>\n",
       "      <td>564.000000</td>\n",
       "    </tr>\n",
       "    <tr>\n",
       "      <th>mean</th>\n",
       "      <td>5403.459283</td>\n",
       "      <td>1621.245798</td>\n",
       "      <td>146.412162</td>\n",
       "      <td>342.00000</td>\n",
       "      <td>0.842199</td>\n",
       "    </tr>\n",
       "    <tr>\n",
       "      <th>std</th>\n",
       "      <td>6109.041673</td>\n",
       "      <td>2926.248369</td>\n",
       "      <td>85.587325</td>\n",
       "      <td>65.12041</td>\n",
       "      <td>0.364878</td>\n",
       "    </tr>\n",
       "    <tr>\n",
       "      <th>min</th>\n",
       "      <td>150.000000</td>\n",
       "      <td>0.000000</td>\n",
       "      <td>9.000000</td>\n",
       "      <td>12.00000</td>\n",
       "      <td>0.000000</td>\n",
       "    </tr>\n",
       "    <tr>\n",
       "      <th>25%</th>\n",
       "      <td>2877.500000</td>\n",
       "      <td>0.000000</td>\n",
       "      <td>100.000000</td>\n",
       "      <td>360.00000</td>\n",
       "      <td>1.000000</td>\n",
       "    </tr>\n",
       "    <tr>\n",
       "      <th>50%</th>\n",
       "      <td>3812.500000</td>\n",
       "      <td>1188.500000</td>\n",
       "      <td>128.000000</td>\n",
       "      <td>360.00000</td>\n",
       "      <td>1.000000</td>\n",
       "    </tr>\n",
       "    <tr>\n",
       "      <th>75%</th>\n",
       "      <td>5795.000000</td>\n",
       "      <td>2297.250000</td>\n",
       "      <td>168.000000</td>\n",
       "      <td>360.00000</td>\n",
       "      <td>1.000000</td>\n",
       "    </tr>\n",
       "    <tr>\n",
       "      <th>max</th>\n",
       "      <td>81000.000000</td>\n",
       "      <td>41667.000000</td>\n",
       "      <td>700.000000</td>\n",
       "      <td>480.00000</td>\n",
       "      <td>1.000000</td>\n",
       "    </tr>\n",
       "  </tbody>\n",
       "</table>\n",
       "</div>"
      ],
      "text/plain": [
       "       ApplicantIncome  CoapplicantIncome  LoanAmount  Loan_Amount_Term  \\\n",
       "count       614.000000         614.000000  592.000000         600.00000   \n",
       "mean       5403.459283        1621.245798  146.412162         342.00000   \n",
       "std        6109.041673        2926.248369   85.587325          65.12041   \n",
       "min         150.000000           0.000000    9.000000          12.00000   \n",
       "25%        2877.500000           0.000000  100.000000         360.00000   \n",
       "50%        3812.500000        1188.500000  128.000000         360.00000   \n",
       "75%        5795.000000        2297.250000  168.000000         360.00000   \n",
       "max       81000.000000       41667.000000  700.000000         480.00000   \n",
       "\n",
       "       Credit_History  \n",
       "count      564.000000  \n",
       "mean         0.842199  \n",
       "std          0.364878  \n",
       "min          0.000000  \n",
       "25%          1.000000  \n",
       "50%          1.000000  \n",
       "75%          1.000000  \n",
       "max          1.000000  "
      ]
     },
     "execution_count": 7,
     "metadata": {},
     "output_type": "execute_result"
    }
   ],
   "source": [
    "df.describe()"
   ]
  },
  {
   "cell_type": "code",
   "execution_count": 8,
   "id": "823ed46a",
   "metadata": {},
   "outputs": [
    {
     "data": {
      "text/plain": [
       "Index(['Loan_ID', 'Gender', 'Married', 'Dependents', 'Education',\n",
       "       'Self_Employed', 'ApplicantIncome', 'CoapplicantIncome', 'LoanAmount',\n",
       "       'Loan_Amount_Term', 'Credit_History', 'Property_Area', 'Loan_Status'],\n",
       "      dtype='object')"
      ]
     },
     "execution_count": 8,
     "metadata": {},
     "output_type": "execute_result"
    }
   ],
   "source": [
    "df.columns"
   ]
  },
  {
   "cell_type": "markdown",
   "id": "08a48b64",
   "metadata": {},
   "source": [
    "# -->EDA (Exploratory Data Analysis)\n",
    "\n",
    "- Exploring column one by one"
   ]
  },
  {
   "cell_type": "code",
   "execution_count": 9,
   "id": "1664c01e",
   "metadata": {},
   "outputs": [
    {
     "data": {
      "text/plain": [
       "<AxesSubplot:>"
      ]
     },
     "execution_count": 9,
     "metadata": {},
     "output_type": "execute_result"
    },
    {
     "data": {
      "image/png": "[encoded data removed]",
      "text/plain": [
       "<Figure size 432x288 with 2 Axes>"
      ]
     },
     "metadata": {
      "needs_background": "light"
     },
     "output_type": "display_data"
    }
   ],
   "source": [
    "sns.heatmap(df.corr(), annot = True)"
   ]
  },
  {
   "cell_type": "markdown",
   "id": "608db64a",
   "metadata": {},
   "source": [
    "## 1. Loan_ID\n",
    "- This feature is just id and not going to help us predict target feature"
   ]
  },
  {
   "cell_type": "code",
   "execution_count": 10,
   "id": "b16262ac",
   "metadata": {},
   "outputs": [
    {
     "data": {
      "text/plain": [
       "False"
      ]
     },
     "execution_count": 10,
     "metadata": {},
     "output_type": "execute_result"
    }
   ],
   "source": [
    "df['Loan_ID'].isna().any()"
   ]
  },
  {
   "cell_type": "markdown",
   "id": "548c0110",
   "metadata": {},
   "source": [
    "## 2. Gender\n",
    "- There is 13 NaN values in this feature\n",
    "- The ratio of Female approved loans are same(nearly) as Male "
   ]
  },
  {
   "cell_type": "code",
   "execution_count": 11,
   "id": "e45ab1e3",
   "metadata": {},
   "outputs": [
    {
     "data": {
      "text/plain": [
       "Male      489\n",
       "Female    112\n",
       "NaN        13\n",
       "Name: Gender, dtype: int64"
      ]
     },
     "execution_count": 11,
     "metadata": {},
     "output_type": "execute_result"
    }
   ],
   "source": [
    "df['Gender'].value_counts(dropna = False)"
   ]
  },
  {
   "cell_type": "code",
   "execution_count": 12,
   "id": "e93e4288",
   "metadata": {},
   "outputs": [
    {
     "data": {
      "text/plain": [
       "<AxesSubplot:xlabel='Gender', ylabel='count'>"
      ]
     },
     "execution_count": 12,
     "metadata": {},
     "output_type": "execute_result"
    },
    {
     "data": {
      "image/png": "[encoded data removed]",
      "text/plain": [
       "<Figure size 432x288 with 1 Axes>"
      ]
     },
     "metadata": {
      "needs_background": "light"
     },
     "output_type": "display_data"
    }
   ],
   "source": [
    "sns.countplot(x = df['Gender'], hue = df['Loan_Status'])"
   ]
  },
  {
   "cell_type": "markdown",
   "id": "44f04fe4",
   "metadata": {},
   "source": [
    "## 3. Married\n",
    "- 3 NaN values\n",
    "- The probability of getting loan is greater if Applicant is married"
   ]
  },
  {
   "cell_type": "code",
   "execution_count": null,
   "id": "eeb65f85",
   "metadata": {},
   "outputs": [],
   "source": [
    "df['Married'].value_counts(dropna = False)"
   ]
  },
  {
   "cell_type": "code",
   "execution_count": null,
   "id": "a31f7537",
   "metadata": {},
   "outputs": [],
   "source": [
    "sns.countplot(x = df['Married'], hue = df['Loan_Status'])"
   ]
  },
  {
   "cell_type": "markdown",
   "id": "1ff356fd",
   "metadata": {},
   "source": [
    "## 4. Dependents\n",
    "- There is 15 NaN value"
   ]
  },
  {
   "cell_type": "code",
   "execution_count": null,
   "id": "cab9e7a0",
   "metadata": {},
   "outputs": [],
   "source": [
    "df['Dependents'].value_counts(dropna = False)"
   ]
  },
  {
   "cell_type": "code",
   "execution_count": null,
   "id": "83b2c869",
   "metadata": {},
   "outputs": [],
   "source": [
    "sns.countplot(x = df['Dependents'], hue = df['Loan_Status'])"
   ]
  },
  {
   "cell_type": "code",
   "execution_count": null,
   "id": "68079f5f",
   "metadata": {
    "scrolled": false
   },
   "outputs": [],
   "source": [
    "sns.countplot(x = df['Dependents'], hue = df['Married'])"
   ]
  },
  {
   "cell_type": "markdown",
   "id": "0407d6c5",
   "metadata": {},
   "source": [
    "## 5. Education\n",
    "- No NaN value\n",
    "- The probability of getting loan approval is heigher if applicant is graduated"
   ]
  },
  {
   "cell_type": "code",
   "execution_count": null,
   "id": "b1a5ec5f",
   "metadata": {},
   "outputs": [],
   "source": [
    "df['Education'].value_counts(dropna = False)"
   ]
  },
  {
   "cell_type": "code",
   "execution_count": null,
   "id": "4e91cf44",
   "metadata": {
    "scrolled": true
   },
   "outputs": [],
   "source": [
    "sns.countplot(x = df['Education'], hue = df['Loan_Status'])"
   ]
  },
  {
   "cell_type": "markdown",
   "id": "d8178769",
   "metadata": {},
   "source": [
    "## 6. Self_Employed\n",
    "- 32 NaN values"
   ]
  },
  {
   "cell_type": "code",
   "execution_count": null,
   "id": "14e30d37",
   "metadata": {},
   "outputs": [],
   "source": [
    "df['Self_Employed'].value_counts(dropna = False)"
   ]
  },
  {
   "cell_type": "code",
   "execution_count": null,
   "id": "9ec745ba",
   "metadata": {},
   "outputs": [],
   "source": [
    "sns.countplot(x = df['Self_Employed'], hue = df['Loan_Status'])"
   ]
  },
  {
   "cell_type": "markdown",
   "id": "fb94d032",
   "metadata": {},
   "source": [
    "## 7. ApplicantIncome\n",
    "- 0 NaN values\n",
    "- ApplicantIncome and LoanAmount features are correlated"
   ]
  },
  {
   "cell_type": "code",
   "execution_count": null,
   "id": "02e7db14",
   "metadata": {},
   "outputs": [],
   "source": [
    "df[df['ApplicantIncome'].isna() == True]"
   ]
  },
  {
   "cell_type": "code",
   "execution_count": null,
   "id": "84f09397",
   "metadata": {
    "scrolled": false
   },
   "outputs": [],
   "source": [
    "plt.figure(figsize = (13, 6))\n",
    "sns.scatterplot(x = df['ApplicantIncome'], y = df['LoanAmount'], hue = df['Loan_Status'])"
   ]
  },
  {
   "cell_type": "code",
   "execution_count": null,
   "id": "8763600c",
   "metadata": {
    "scrolled": false
   },
   "outputs": [],
   "source": [
    "sns.jointplot(x = df['ApplicantIncome'], y = df['LoanAmount'], kind = 'hex', \n",
    "              xlim = (-1000, 10000), ylim = (-50, 250))"
   ]
  },
  {
   "cell_type": "code",
   "execution_count": null,
   "id": "134b2611",
   "metadata": {},
   "outputs": [],
   "source": [
    "sns.jointplot(x = df['ApplicantIncome'], y = df['LoanAmount'], kind = 'reg')"
   ]
  },
  {
   "cell_type": "markdown",
   "id": "3384725b",
   "metadata": {},
   "source": [
    "## 8. CoapplicantIncome\n",
    "- 0 NaN value\n",
    "- Many Co-applicant Income is 0 because many applicant have no co-applicant so instead of NaN value it is 0.\n",
    "- So if we add applicant Income and Coapplicant Income we get total income"
   ]
  },
  {
   "cell_type": "code",
   "execution_count": null,
   "id": "840c1c55",
   "metadata": {},
   "outputs": [],
   "source": [
    "df[df['CoapplicantIncome'].isna() == True]"
   ]
  },
  {
   "cell_type": "code",
   "execution_count": null,
   "id": "c79a0c91",
   "metadata": {},
   "outputs": [],
   "source": [
    "plt.figure(figsize = (13, 6))\n",
    "sns.scatterplot(x = df['CoapplicantIncome'], y = df['LoanAmount'], hue = df['Loan_Status'])"
   ]
  },
  {
   "cell_type": "code",
   "execution_count": null,
   "id": "02f2fbc2",
   "metadata": {},
   "outputs": [],
   "source": [
    "plt.figure(figsize = (13, 6))\n",
    "sns.scatterplot(x = df['CoapplicantIncome'] + df['ApplicantIncome'], y = df['LoanAmount'], hue = df['Loan_Status'])"
   ]
  },
  {
   "cell_type": "code",
   "execution_count": null,
   "id": "87cab0ce",
   "metadata": {},
   "outputs": [],
   "source": [
    "plt.figure(figsize = (13, 6))\n",
    "sns.jointplot(x = df['CoapplicantIncome'] + df['ApplicantIncome'], y = df['LoanAmount'], kind = 'reg')"
   ]
  },
  {
   "cell_type": "markdown",
   "id": "dade1e78",
   "metadata": {},
   "source": [
    "## 9. LoanAmount\n",
    "- 22 NaN values"
   ]
  },
  {
   "cell_type": "code",
   "execution_count": null,
   "id": "17563f0f",
   "metadata": {},
   "outputs": [],
   "source": [
    "df['LoanAmount'].isna().sum()"
   ]
  },
  {
   "cell_type": "code",
   "execution_count": null,
   "id": "bb6f2294",
   "metadata": {},
   "outputs": [],
   "source": [
    "sns.boxplot(y = df['LoanAmount'], x = df['Education'])"
   ]
  },
  {
   "cell_type": "code",
   "execution_count": null,
   "id": "451775d7",
   "metadata": {},
   "outputs": [],
   "source": [
    "sns.boxplot(y = df['LoanAmount'], x = df['Gender'])"
   ]
  },
  {
   "cell_type": "markdown",
   "id": "62200c77",
   "metadata": {},
   "source": [
    "## 10. Loan_Amount_Term (Term of Loan in months)\n",
    "- 14 NaN values"
   ]
  },
  {
   "cell_type": "code",
   "execution_count": null,
   "id": "6936b88a",
   "metadata": {},
   "outputs": [],
   "source": [
    "df['Loan_Amount_Term'].isna().sum()"
   ]
  },
  {
   "cell_type": "code",
   "execution_count": null,
   "id": "7118badf",
   "metadata": {
    "scrolled": true
   },
   "outputs": [],
   "source": [
    "df['Loan_Amount_Term'].value_counts()"
   ]
  },
  {
   "cell_type": "markdown",
   "id": "dcfa4285",
   "metadata": {},
   "source": [
    "## 11. Credit_History\n",
    "- 50 NaN value"
   ]
  },
  {
   "cell_type": "code",
   "execution_count": null,
   "id": "3b4e8ba7",
   "metadata": {},
   "outputs": [],
   "source": [
    "df['Credit_History'].value_counts(dropna = False)"
   ]
  },
  {
   "cell_type": "code",
   "execution_count": null,
   "id": "7feb8b0b",
   "metadata": {},
   "outputs": [],
   "source": [
    "sns.countplot(x = df['Credit_History'], hue = df['Loan_Status'])"
   ]
  },
  {
   "cell_type": "markdown",
   "id": "2dd92bf9",
   "metadata": {},
   "source": [
    "## 12. Property_Area\n",
    "- 0 NaN value"
   ]
  },
  {
   "cell_type": "code",
   "execution_count": null,
   "id": "dcae34a6",
   "metadata": {},
   "outputs": [],
   "source": [
    "df['Property_Area'].value_counts(dropna = False)"
   ]
  },
  {
   "cell_type": "code",
   "execution_count": null,
   "id": "4204f022",
   "metadata": {
    "scrolled": true
   },
   "outputs": [],
   "source": [
    "sns.countplot(x = df['Property_Area'], hue = df['Loan_Status'])"
   ]
  },
  {
   "cell_type": "markdown",
   "id": "b9fb4e84",
   "metadata": {},
   "source": [
    "# --> Handling NaN values"
   ]
  },
  {
   "cell_type": "markdown",
   "id": "7cee4a27",
   "metadata": {},
   "source": [
    "## Test and Train Split\n",
    "- Before Handlind NaN values we are going to split the data because of data leakage"
   ]
  },
  {
   "cell_type": "code",
   "execution_count": null,
   "id": "3d5ebe9a",
   "metadata": {},
   "outputs": [],
   "source": [
    "from sklearn.model_selection import train_test_split"
   ]
  },
  {
   "cell_type": "code",
   "execution_count": null,
   "id": "6d919e8a",
   "metadata": {},
   "outputs": [],
   "source": [
    "X = df.drop('Loan_Status', axis = 1)\n",
    "y = df['Loan_Status']\n",
    "\n",
    "X_train, X_test, y_train, y_test = train_test_split(X, y, test_size=0.2, random_state=18)"
   ]
  },
  {
   "cell_type": "code",
   "execution_count": null,
   "id": "1c95fd44",
   "metadata": {},
   "outputs": [],
   "source": []
  },
  {
   "cell_type": "markdown",
   "id": "3318c294",
   "metadata": {},
   "source": [
    "## 1. Gender\n",
    "- if the applicant is married there is a high chance of male applicant\n",
    "- Mode of Gender variable is 'Male'"
   ]
  },
  {
   "cell_type": "code",
   "execution_count": null,
   "id": "ec8003d4",
   "metadata": {},
   "outputs": [],
   "source": [
    "sns.countplot(x = X_train['Married'], hue = X_train['Gender'])"
   ]
  },
  {
   "cell_type": "code",
   "execution_count": null,
   "id": "dc95741a",
   "metadata": {},
   "outputs": [],
   "source": [
    "X_train[X_train['Gender'].isna() == True]['Married'].value_counts(dropna = False)"
   ]
  },
  {
   "cell_type": "code",
   "execution_count": null,
   "id": "7c5766d9",
   "metadata": {},
   "outputs": [],
   "source": [
    "X_train['Gender'] = X_train['Gender'].fillna('Male')\n",
    "X_test['Gender'] = X_test['Gender'].fillna('Male')"
   ]
  },
  {
   "cell_type": "markdown",
   "id": "3cce3de1",
   "metadata": {},
   "source": [
    "## 2. Married"
   ]
  },
  {
   "cell_type": "code",
   "execution_count": null,
   "id": "5cc71743",
   "metadata": {},
   "outputs": [],
   "source": [
    "X_train['Married'].value_counts(dropna = False)"
   ]
  },
  {
   "cell_type": "code",
   "execution_count": null,
   "id": "3c10aa39",
   "metadata": {},
   "outputs": [],
   "source": [
    "X_train['Married'] = X_train['Married'].fillna(X_train['Married'].mode()[0])\n",
    "X_test['Married'] = X_test['Married'].fillna(X_train['Married'].mode()[0])"
   ]
  },
  {
   "cell_type": "markdown",
   "id": "8eefbc18",
   "metadata": {},
   "source": [
    "## 3. Dependents\n",
    "- Mode of Dependents feature is '0'"
   ]
  },
  {
   "cell_type": "code",
   "execution_count": null,
   "id": "0fd170aa",
   "metadata": {},
   "outputs": [],
   "source": [
    "X_train['Dependents'].value_counts(dropna = False)"
   ]
  },
  {
   "cell_type": "code",
   "execution_count": null,
   "id": "bfbefa6c",
   "metadata": {
    "scrolled": true
   },
   "outputs": [],
   "source": [
    "X_train[X_train['Dependents'].isna() == True]['Married'].value_counts(dropna = False)"
   ]
  },
  {
   "cell_type": "code",
   "execution_count": null,
   "id": "8c50e21f",
   "metadata": {
    "scrolled": true
   },
   "outputs": [],
   "source": [
    "sns.countplot(x = df['Dependents'], hue = df['Married'])"
   ]
  },
  {
   "cell_type": "code",
   "execution_count": null,
   "id": "a8783d69",
   "metadata": {},
   "outputs": [],
   "source": [
    "X_test['Dependents'] = X_test['Dependents'].fillna(X_train['Dependents'].mode()[0])\n",
    "X_train['Dependents'] = X_train['Dependents'].fillna(X_train['Dependents'].mode()[0])"
   ]
  },
  {
   "cell_type": "markdown",
   "id": "b7dff2df",
   "metadata": {},
   "source": [
    "## 4. Self_Employed"
   ]
  },
  {
   "cell_type": "code",
   "execution_count": null,
   "id": "a69a117c",
   "metadata": {},
   "outputs": [],
   "source": [
    "X_train['Self_Employed'].value_counts(dropna = False)"
   ]
  },
  {
   "cell_type": "code",
   "execution_count": null,
   "id": "52e2ab42",
   "metadata": {},
   "outputs": [],
   "source": [
    "X_train['Self_Employed'] = X_train['Self_Employed'].fillna(X_train['Self_Employed'].mode()[0])\n",
    "X_test['Self_Employed'] = X_test['Self_Employed'].fillna(X_train['Self_Employed'].mode()[0])"
   ]
  },
  {
   "cell_type": "markdown",
   "id": "1d81a69a",
   "metadata": {},
   "source": [
    "## 5. LoanAmount"
   ]
  },
  {
   "cell_type": "code",
   "execution_count": null,
   "id": "ac840ac7",
   "metadata": {},
   "outputs": [],
   "source": [
    "X_train['LoanAmount'].isna().sum()"
   ]
  },
  {
   "cell_type": "code",
   "execution_count": null,
   "id": "04ec580c",
   "metadata": {},
   "outputs": [],
   "source": [
    "X_train['LoanAmount'].mean()"
   ]
  },
  {
   "cell_type": "code",
   "execution_count": null,
   "id": "c6ca0a68",
   "metadata": {},
   "outputs": [],
   "source": [
    "sns.distplot(X_train['LoanAmount'])"
   ]
  },
  {
   "cell_type": "code",
   "execution_count": null,
   "id": "4dfc3dad",
   "metadata": {},
   "outputs": [],
   "source": [
    "X_train[X_train['LoanAmount'] > 250]['LoanAmount'].count()"
   ]
  },
  {
   "cell_type": "code",
   "execution_count": null,
   "id": "f4f2b766",
   "metadata": {},
   "outputs": [],
   "source": [
    "X_train[X_train['LoanAmount'] < 250]['LoanAmount'].mean()"
   ]
  },
  {
   "cell_type": "code",
   "execution_count": null,
   "id": "955014d3",
   "metadata": {},
   "outputs": [],
   "source": [
    "sns.kdeplot(x = X_train[X_train['LoanAmount'] < 250]['LoanAmount'])"
   ]
  },
  {
   "cell_type": "code",
   "execution_count": null,
   "id": "acf8158d",
   "metadata": {},
   "outputs": [],
   "source": [
    "X_train['LoanAmount'] = X_train['LoanAmount'].fillna(125.0944)\n",
    "X_test['LoanAmount'] = X_test['LoanAmount'].fillna(125.0944)"
   ]
  },
  {
   "cell_type": "markdown",
   "id": "c1ab5d96",
   "metadata": {},
   "source": [
    "## 6. Loan_Amount_Term"
   ]
  },
  {
   "cell_type": "code",
   "execution_count": null,
   "id": "fbc5da24",
   "metadata": {},
   "outputs": [],
   "source": [
    "X_train['Loan_Amount_Term'].value_counts(dropna = False)"
   ]
  },
  {
   "cell_type": "code",
   "execution_count": null,
   "id": "7cdcce90",
   "metadata": {},
   "outputs": [],
   "source": [
    "X_train['Loan_Amount_Term'] = X_train['Loan_Amount_Term'].fillna(360)\n",
    "X_test['Loan_Amount_Term'] = X_test['Loan_Amount_Term'].fillna(360)"
   ]
  },
  {
   "cell_type": "markdown",
   "id": "d6404435",
   "metadata": {},
   "source": [
    "## 7. Credit_History"
   ]
  },
  {
   "cell_type": "code",
   "execution_count": null,
   "id": "0b3f35e8",
   "metadata": {},
   "outputs": [],
   "source": [
    "X_train['Credit_History'].value_counts(dropna = False)"
   ]
  },
  {
   "cell_type": "code",
   "execution_count": null,
   "id": "4cf4e41a",
   "metadata": {},
   "outputs": [],
   "source": [
    "X_train['Credit_History'] = X_train['Credit_History'].fillna(1)\n",
    "X_test['Credit_History'] = X_test['Credit_History'].fillna(1)"
   ]
  },
  {
   "cell_type": "code",
   "execution_count": null,
   "id": "eb5abdc3",
   "metadata": {},
   "outputs": [],
   "source": []
  },
  {
   "cell_type": "code",
   "execution_count": null,
   "id": "9f928edd",
   "metadata": {},
   "outputs": [],
   "source": [
    "X_train.isna().sum()"
   ]
  },
  {
   "cell_type": "code",
   "execution_count": null,
   "id": "aaeeb306",
   "metadata": {},
   "outputs": [],
   "source": []
  },
  {
   "cell_type": "code",
   "execution_count": null,
   "id": "0e304029",
   "metadata": {},
   "outputs": [],
   "source": []
  },
  {
   "cell_type": "code",
   "execution_count": null,
   "id": "126d61b0",
   "metadata": {},
   "outputs": [],
   "source": []
  },
  {
   "cell_type": "code",
   "execution_count": null,
   "id": "d1236f06",
   "metadata": {},
   "outputs": [],
   "source": []
  },
  {
   "cell_type": "code",
   "execution_count": null,
   "id": "9836b965",
   "metadata": {},
   "outputs": [],
   "source": []
  },
  {
   "cell_type": "code",
   "execution_count": null,
   "id": "d9fe1740",
   "metadata": {},
   "outputs": [],
   "source": []
  },
  {
   "cell_type": "code",
   "execution_count": null,
   "id": "f353b033",
   "metadata": {},
   "outputs": [],
   "source": []
  }
 ],
 "metadata": {
  "kernelspec": {
   "display_name": "Python 3 (ipykernel)",
   "language": "python",
   "name": "python3"
  },
  "language_info": {
   "codemirror_mode": {
    "name": "ipython",
    "version": 3
   },
   "file_extension": ".py",
   "mimetype": "text/x-python",
   "name": "python",
   "nbconvert_exporter": "python",
   "pygments_lexer": "ipython3",
   "version": "3.9.7"
  }
 },
 "nbformat": 4,
 "nbformat_minor": 5
}
